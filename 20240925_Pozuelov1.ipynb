{
  "nbformat": 4,
  "nbformat_minor": 0,
  "metadata": {
    "colab": {
      "provenance": [],
      "authorship_tag": "ABX9TyPCrbl0SzhxI6NhMkYWyKRo",
      "include_colab_link": true
    },
    "kernelspec": {
      "name": "python3",
      "display_name": "Python 3"
    },
    "language_info": {
      "name": "python"
    }
  },
  "cells": [
    {
      "cell_type": "markdown",
      "metadata": {
        "id": "view-in-github",
        "colab_type": "text"
      },
      "source": [
        "<a href=\"https://colab.research.google.com/github/endorgobio/NOEL/blob/main/20240925_Pozuelov1.ipynb\" target=\"_parent\"><img src=\"https://colab.research.google.com/assets/colab-badge.svg\" alt=\"Open In Colab\"/></a>"
      ]
    },
    {
      "cell_type": "markdown",
      "source": [
        "# <font color='FD6E72'> **Configuración del entorno** </font>"
      ],
      "metadata": {
        "id": "8lb0XThc_WkT"
      }
    },
    {
      "cell_type": "markdown",
      "source": [
        "# <font color='FD6E72'> **Descripción del problema** </font>"
      ],
      "metadata": {
        "id": "7uA56AhH_alu"
      }
    },
    {
      "cell_type": "code",
      "execution_count": null,
      "metadata": {
        "id": "BCymwrnl_RMj"
      },
      "outputs": [],
      "source": []
    }
  ]
}