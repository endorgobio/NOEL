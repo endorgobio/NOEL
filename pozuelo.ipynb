{
  "nbformat": 4,
  "nbformat_minor": 0,
  "metadata": {
    "colab": {
      "provenance": [],
      "toc_visible": true,
      "authorship_tag": "ABX9TyMhxbCQkU0q6tpwT2xf4QYt",
      "include_colab_link": true
    },
    "kernelspec": {
      "name": "python3",
      "display_name": "Python 3"
    },
    "language_info": {
      "name": "python"
    }
  },
  "cells": [
    {
      "cell_type": "markdown",
      "metadata": {
        "id": "view-in-github",
        "colab_type": "text"
      },
      "source": [
        "<a href=\"https://colab.research.google.com/github/endorgobio/NOEL/blob/main/pozuelo.ipynb\" target=\"_parent\"><img src=\"https://colab.research.google.com/assets/colab-badge.svg\" alt=\"Open In Colab\"/></a>"
      ]
    },
    {
      "cell_type": "markdown",
      "source": [
        "<p style=\"text-align: center;\">\n",
        "    <img alt=\"banner\" height=\"230px\" width=\"100%\" src=\"https://docs.google.com/uc?export=download&id=1u24J7TwTrOJyxWrk0uFjIDhR_cuz_Mzk\" hspace=\"10px\" vspace=\"0px\">\n",
        "</p>"
      ],
      "metadata": {
        "id": "de0mGKwY-Gn3"
      }
    },
    {
      "cell_type": "markdown",
      "source": [
        "# <font color='FD6E72'> **Ciclo de vida del proyecto** </font>\n",
        "\n",
        "Las etapas del ciclo de vida de un proyecto de analítica de datos suelen seguir un proceso estructurado para resolver problemas utilizando datos y modelos\n",
        "\n",
        "<img src=\"https://docs.google.com/uc?export=download&id=1dxsDLcNuGDMydUUsM0HouRXKa4E84n8c\" alt=\"picture\" width=\"100%\">\n",
        "\n",
        "\n",
        "\n"
      ],
      "metadata": {
        "id": "VQbajV89BEal"
      }
    },
    {
      "cell_type": "markdown",
      "source": [
        "## <font color='#ff6d33'> **Definir el problema** </font>\n",
        "\n",
        "Identificar y delimitar claramente el problema que se quiere resolver. Esto implica comprender las necesidades del negocio o del proyecto y traducirlas a un formato que pueda ser abordado mediante análisis de datos.\n",
        "   - **Tareas**: Formular preguntas clave, definir las métricas de éxito, establecer los resultados esperados, y determinar las restricciones o limitaciones del problema.\n",
        "\n"
      ],
      "metadata": {
        "id": "ZT3rr2yfYfGy"
      }
    },
    {
      "cell_type": "markdown",
      "source": [
        "## <font color='#ff6d33'> **Obtener datos** </font>\n",
        "Recopilar los datos relevantes necesarios para abordar el problema.\n",
        "   - **Tareas**: Identificar las fuentes de datos (internas o externas), extraer los datos, y asegurarse de su disponibilidad y formato adecuado para el análisis. Esto puede incluir consultas a bases de datos, scraping web, APIs, entre otros.\n",
        "\n"
      ],
      "metadata": {
        "id": "LJwcRkghas3D"
      }
    },
    {
      "cell_type": "markdown",
      "source": [
        "## <font color='#ff6d33'> **Preparar datos** </font>\n",
        "Acondicionar los datos para que puedan ser utilizados en la creación del modelo.\n",
        "   - **Tareas**: Limpiar los datos (manejo de datos faltantes, eliminación de duplicados, corrección de valores atípicos), transformar los datos (normalización, codificación de variables categóricas), y seleccionar las variables relevantes. También es común realizar análisis exploratorios de los datos (EDA) en esta etapa.\n"
      ],
      "metadata": {
        "id": "KgZXsJRiauzW"
      }
    },
    {
      "cell_type": "markdown",
      "source": [
        "\n",
        "## <font color='#ff6d33'> **Crear el modelo** </font>\n",
        "Desarrollar un modelo que permita apoyar la toma de decisiones con base en el problema identificado y los datos disponibles.\n",
        "   - **Tareas**: Seleccionar la el tipo de modelo más apropiado, diseñar e implementar la estrategia de solución del modelo .\n",
        "\n"
      ],
      "metadata": {
        "id": "ydohtDhAawxr"
      }
    },
    {
      "cell_type": "markdown",
      "source": [
        "## <font color='#ff6d33'> **Validar el modelo** </font>\n",
        "Comprobar que el modelo funciona correctamente y que la información generada responde a las preguntas formuladas y sirve como apoyo a la toma de decisiones\n",
        "   - **Tareas**: Evaluar el rendimiento del modelo en un conjunto de datos de prueba, verificar su precisión, sensibilidad, y otros indicadores relevantes. Si el rendimiento no es adecuado, se pueden ajustar los hiperparámetros o explorar otros modelos.\n",
        "\n"
      ],
      "metadata": {
        "id": "_bOy2nS4ayJn"
      }
    },
    {
      "cell_type": "markdown",
      "source": [
        "\n",
        "## <font color='#ff6d33'> **Desplegar el modelo** </font>\n",
        "Implementar el modelo en un entorno de producción donde pueda ser utilizado para apoyar la tomar decisiones o generar disntintos escenarios.\n",
        "   - **Tareas**: Integrar el modelo en los sistemas operativos del negocio (APIs, dashboards, etc.), monitorizar el rendimiento del modelo en tiempo real, y realizar ajustes o actualizaciones si es necesario para mantener su eficacia a lo largo del tiempo.\n",
        "\n"
      ],
      "metadata": {
        "id": "wMB-VDZDa0ew"
      }
    },
    {
      "cell_type": "markdown",
      "source": [
        "Estas etapas **no siempre son lineales** y pueden requerir retrocesos o iteraciones. Por ejemplo:\n",
        "\n",
        "* Al momento de preparar los datos nos demos cuenta que es necesario redefinir el problema en términos de la información que diponemos\n",
        "* Al diseñar e implementar el modelo evidenciemos que requerimos obtener algunos datos o información que inicialmente no habiamos presupuestado\n",
        "* Los resultados de la validación del modelo pueden llevar a una nueva fase de preparación de los datos o ajuste del modelo.\n",
        "* Un modelo ya desplegado y siendo usado para apoyar la toma de decisiones, puede requerir ser actualizado, porque por ejemplo algunos de los supuestos o condiciones en los que se baso la modelación ya no son válidos"
      ],
      "metadata": {
        "id": "5KLUKfsfa6GC"
      }
    },
    {
      "cell_type": "markdown",
      "source": [
        "# <font color='FD6E72'> **Creación de modelos** </font>\n",
        "\n",
        "Ahondaremos de momento en la etapa de creación del modelo por ser una de las etapas en las que la analitica prescriptiva se diferencia de los demas tipos de analitica, particularmente por la naturaleza de los modelos que emplea.\n",
        "\n",
        "\n",
        "\n",
        "\n",
        "\n",
        "\n",
        "\n",
        "\n"
      ],
      "metadata": {
        "id": "CjYGDoPiePNG"
      }
    },
    {
      "cell_type": "markdown",
      "source": [
        "## <font color='#ff6d33'> **Modelo como abstracción de la realidad** </font>\n",
        "\n",
        "Dentro de las múltiples acepciones de la palabra “modelo”, la que mejor se adapta al contexto de este curso es la que lo define como\n",
        "\n",
        "> “un esquema teórico, generalmente en forma matemática, que representa un sistema o una realidad compleja, como la evolución económica de un país, con el propósito de facilitar su comprensión y estudio de su comportamiento” (Real Academia Española, 2023).\n",
        "\n",
        "Un modelo siempre representa una abtracción de la realidad. Incorporar en un modelo todos los elementos y detalles que definen el sistema real lo harían, en la mayoria de los casos, impractico pars su proposito general de generar información que apoye la toma de decisiones."
      ],
      "metadata": {
        "id": "PB1623ongpij"
      }
    },
    {
      "cell_type": "markdown",
      "source": [
        "## <font color='#ff6d33'> **Elementos de un modelo de optimización** </font>\n",
        "\n",
        "Un modelo de optimización representa la selección de valores de un vector de **variables** que representan el conjunto de posibles elecciones o alternativas para las <font color='#85a900'> **decisiones** </font> en consideración, de manera que se optimize (maximice o minimice) una **función objetivo**, respetando un conjunto de **restricciones** que representan los límites técnicos de las posibles elecciones.\n",
        "\n",
        "<img src=\"https://docs.google.com/uc?export=download&id=10Kjm3CQskO_zt5PoEPMRYEh6qleX_hp9\" alt=\"picture\" width=\"100%\">\n",
        "\n"
      ],
      "metadata": {
        "id": "8XJaTDkXgDM8"
      }
    },
    {
      "cell_type": "markdown",
      "source": [
        "Las <font color='#85a900'> **variables** </font>  en un modelo de optimización pueden representar una amplia variedad de conceptos, como cantidades a producir, inventarios a mantener, flujos entre diferentes puntos de una red, asignación de recursos a actividades, cantidades a comprar, número de recursos requeridos en un período, tiempos de inicio de actividades, inclusión de elementos en diseños y elección entre varias alternativas, entre otros ejemplos.\n"
      ],
      "metadata": {
        "id": "cHcKL3x1hcuS"
      }
    },
    {
      "cell_type": "markdown",
      "source": [
        "\n",
        "Por su parte, las <font color='#85a900'> **restricciones** </font>  se utilizan para expresar las condiciones que se deben cumplir en el sistema que se esté modelando, tales como los límites de recursos disponibles, las demandas de ciertos productos, las políticas de funcionamiento que se hayan definido, entre otras posibilidades.\n",
        "\n"
      ],
      "metadata": {
        "id": "J9GDzKGFhfCS"
      }
    },
    {
      "cell_type": "markdown",
      "source": [
        "Por último, la <font color='#85a900'> **función objetivo** </font>  cuantifica y evalúa las consecuencias de las decisiones, y representa la meta u objetivo que se desea lograr. Las soluciones se comparan entre sí en función de la función objetivo. Por ejemplo, si se está minimizando un costo, la solución con la función objetivo más baja será considerada la mejor. Las funciones objetivo de los modelos de optimización pueden abarcar una amplia variedad de metas. Las más comunes suelen ser la minimización de costos o la maximización de utilidades, pero existen muchas otras posibilidades. Algunas de ellas incluyen: maximizar ingresos, maximizar rendimientos, maximizar el valor presente, maximizar el nivel de servicio, minimizar la infactibilidad, maximizar la satisfacción, maximizar la probabilidad de cumplir con ciertos requisitos, maximizar la robustez, minimizar el uso de recursos, minimizar los tiempos de ejecución, entre otros."
      ],
      "metadata": {
        "id": "-5n-5Gi5hoDo"
      }
    },
    {
      "cell_type": "markdown",
      "source": [],
      "metadata": {
        "id": "yoNaRcyRpf18"
      }
    },
    {
      "cell_type": "markdown",
      "source": [
        "\n",
        "### <font color='#85a900'> **Ejemplo: nuestro primero modelo** </font>\n",
        "\n",
        "Una compañia de galletas tiene un único horno que procesa un único tipo de galleta. El plan de demanda contiene las ordenes de 10 clientes (en miles de galletas) y la utilidad (en millones de pesos) que cada una de ellas genera\n",
        "\n",
        "|        | Orden 1 | Orden 2 | Orden 3 | Orden 4 | Orden 5 | Orden 6 | Orden 7 | Orden 8 | Orden 9 | Orden 10 |\n",
        "|--------|---------|---------|---------|---------|---------|---------|---------|---------|---------|----------|\n",
        "| Cantidad |   16    |   29    |   24    |   20    |   17    |   30    |   32    |   28    |   20    |    20    |\n",
        "| Utilidad  |   73    |   85    |   89    |   73    |   52    |   71    |   102    |   73    |   93    |    79    |\n",
        "\n",
        "La politica de la empresa estipula que a un cliente se le despacha  el total de su demanda o en caso contrarion no se le despacha nada. Dado que la capcidad del horno es 110 mil galletas, y no es suficiente para satisfacer todos los clientes, deben priorizarse algunos de ellos. La decisión que debe tomarse es:\n",
        "\n",
        "\n",
        "> **¿Cuáles de las ordenes deben producirse?**\n",
        "\n",
        "\n",
        "\n"
      ],
      "metadata": {
        "id": "TjmjdhCMvRxc"
      }
    },
    {
      "cell_type": "markdown",
      "source": [
        "* <font color='85a900'>**Decisiones** </font>\n",
        "\n",
        "  Para cada pedido debe decidirse si producirlo o no producirlo\n",
        "\n",
        "* <font color='85a900'>**Objetivo** </font>\n",
        "\n",
        "  Generar la máxima utilidad posible con los pedidos producidos\n",
        "\n",
        "* <font color='85a900'>**Restricciones** </font>\n",
        "\n",
        "  La cantidad de unidades de galleta requerida por los pedidos a producir no debe sobrepasar la capacidad de la linea"
      ],
      "metadata": {
        "id": "ScGW-mMQeq2i"
      }
    },
    {
      "cell_type": "markdown",
      "source": [
        "## <font color='#ff6d33'> **Tipos de modelos de optimización** </font>\n",
        "\n",
        "Dependiendo de la cantidad de funciones objetivo, el dominio de las variables, la estructura de las funciones objetivo y restricciones, y la naturaleza de la información utilizada para construir el modelo, se pueden tener distintos modelos de optimización.\n",
        "\n",
        "<img src=\"https://docs.google.com/uc?export=download&id=1BhatYOlmUldF-3QlqkrYNl_odL0qhz2w\" alt=\"picture\" width=\"100%\">\n",
        "\n"
      ],
      "metadata": {
        "id": "lNPNxuIng3fx"
      }
    },
    {
      "cell_type": "markdown",
      "source": [
        "## <font color='#ff6d33'> **Metodología para la creación de modelos** </font>\n",
        "\n",
        "Aunque la construcción de modelos de optimización es vista por algunos como un arte, creemos que ver dicha construcción como un proceso hace más fácil su aprendizaje y reproducción. Por lo tanto, definimos el siguiente proceso de cuatro etapas que rocoge las operaciones principales y que como evidenciaremos posteriormente, pueden iterarse hasta obtener un modelo satisfactorio:   \n",
        "\n",
        "* **Definición de elementos del modelo y notación**: esta etapa implica la definición de los conjuntos, parámetros y variables de decisión que se usarán en el modelo, junto a su respectiva notación (matemática).\n",
        "* **Verbalización de la estructura del modelo**: una vez definidos los elementos del modelo, se describe en palabras la estructura de este, especificando las decisiones a tomar, la función objetivo y las restricciones.\n",
        "* **Formulación del modelo**: implica expresar el modelo de tal manera que pueda ser resuelto posteriormente bien sea mediante un método exacto o un método apróximado.\n",
        "* **Implementación del modelo**: Corresponde a el desarrollo o programación de los recursos necesarios para dar solución al modelo\n"
      ],
      "metadata": {
        "id": "pOo41YQTiSeS"
      }
    },
    {
      "cell_type": "markdown",
      "source": [
        "### <font color='85a900'> **Definición de elementos del modelo y notación** </font>\n",
        "\n",
        "En la construcción de un modelo de optimización, se inicia definiendo los elementos que lo conforman y su respectiva notación. Estos elementos incluyen los **parámetros** o datos que se conocen, las **variables de decisión** que se utilizarán y los **conjuntos** en los cuales se definen los parámetros y variables mencionadas. Esta primera etapa del proceso de modelado busca responder a dos preguntas fundamentales:\n",
        "\n",
        "* **¿Qué información se tiene disponible?** - parámetros de entrada  \n",
        "* **¿Qué decisiones se deben tomar?** - variables de decisión\n",
        "\n",
        "En optimización, cuando el modelo se formula como un programa matemático se utiliza una notación estándar en la que se asignan símbolos o letras del alfabeto a los conjuntos, parámetros y variables con el fin de facilitar su identificación al leer un modelo de optimización\n",
        "\n",
        "\n",
        "\n"
      ],
      "metadata": {
        "id": "Y6cTaxV_pJaI"
      }
    },
    {
      "cell_type": "markdown",
      "source": [
        "En nuestro ejemplo, podriamos definir de momento:\n",
        "\n",
        "* <font color='46B8A9'>**Conjuntos** </font>\n",
        "\n",
        "  Tenemos un conjunto $P$ de **pedidos**\n",
        "\n",
        "* <font color='46B8A9'>**Parámetros** </font>\n",
        "\n",
        "  Se definen parámetros con base en la  información conocida asociada a cada elemento del conjunto de **pedidos** que definimos, estos parámetros son:\n",
        "  * la **utilidad** $u_i$ generada por cada pedido $i$\n",
        "  * la **cantidad** $w_i$ de galletas (cuanta capacidad del horno consume) cada pedido\n",
        "  * la capacidad del horno $C$\n",
        "\n",
        "* <font color='46B8A9'>**Deciciones** </font>\n",
        "\n",
        "  Para cada **pedido** la variable $x_i$ representa la decisión de producirlo o no producirlo\n",
        "\n"
      ],
      "metadata": {
        "id": "2EUttjweqTVX"
      }
    },
    {
      "cell_type": "markdown",
      "source": [
        "### <font color='85a900'> **Verbalización de la estructura del modelo** </font>\n",
        "\n",
        "\n",
        "\n",
        "La verbalización es la descripción en palabras del modelo de optimización que se está construyendo. Para ello, se deben responder tres preguntas fundamentales utilizando los elementos del modelo:\n",
        "* **¿Qué se decide?** (variables de decisión),\n",
        "* **¿Con cuál objetivo?** (función objetivo), y\n",
        "* **¿Con que límites?** (restricciones).\n",
        "\n",
        "\n",
        "\n"
      ],
      "metadata": {
        "id": "zwG6vDk-n0-c"
      }
    },
    {
      "cell_type": "markdown",
      "source": [
        "En nuestro ejemplo, podriamos definir de momento:\n",
        "\n",
        "* <font color='46B8A9'>**¿Qué se decide?** </font>\n",
        "\n",
        "  Cuáles pedidos deben producirse\n",
        "\n",
        "* <font color='46B8A9'>**¿Con cuál objetivo?** </font>\n",
        "\n",
        "  Maximizar la uitilidad generada por los pedidos que se producen\n",
        "\n",
        "* <font color='46B8A9'>**¿Con qué límites?** </font>\n",
        "\n",
        "  * Los total cantidad de unidades requeridas por pedidos a producir no debe sobrepasar la capacidad del horno\n",
        "  * Los pedidos no pueden fabricarse parcialmente. Es decir, se satisfacen completos o no se satisfacen en absoluto"
      ],
      "metadata": {
        "id": "PeU6nAPfvBcH"
      }
    },
    {
      "cell_type": "markdown",
      "source": [
        "La verbalización es una herramienta fundamental en la construcción de modelos de optimización por varias razones:\n",
        "* Permite hacer explícita la estructura del modelo, detallando las variables de decisión, las restricciones y la función objetivo, incluso antes de que el modelo sea construido.\n",
        "* Al trabajar en equipo, ayuda a unificar las ideas y opiniones de los miembros del equipo en torno a una misma estructura de modelo.\n",
        "* Si el modelo será utilizado por otros usuarios o equipos, la verbalización permite comunicar claramente lo que hará el modelo y validar las expectativas del usuario antes de construirlo e implementarlo.\n",
        "* Facilita la comunicación con personas que no son expertas en optimización al proporcionar una descripción no matemática de la estructura del modelo. Además, permite la comunicación efectiva en instancias en las cuales la presentación detallada de la formulación matemática puede no ser necesaria como en reuniones de trabajo.\n",
        "* Sirve como una lista de verificación en el proceso de construcción del modelo de optimización, ya que permite verificar si todos los elementos que se quería incluir fueron modelados o no.\n",
        "* Finalmente, se puede utilizar como entrada (`prompt`) en las herramientas de inteligencia artificial que generan automáticamente modelos matemáticos o código de computador como ChatGPT y otras herramientas de inteligencia artificial generativa. (ej. [chatOPT](https://chatopt-modelexp-9188d4d33593.herokuapp.com/))"
      ],
      "metadata": {
        "id": "k360vh5BvGG7"
      }
    },
    {
      "cell_type": "markdown",
      "source": [
        "####<font color='46B8A9'>**Ejercicio** </font>\n",
        "\n",
        "Para evidenciar la importancia de una buena verbalización, vamos considerar el siguiente ejercicio:\n",
        "\n",
        "Tome una hoja en blanco o cree un lienzo en una aplicación de dibujo en linea y siga las siguientes instrucciones:\n",
        "\n",
        "1. Dibuje un rectángulo grande\n",
        "2. En una de las esquinas del rectángulo dibuje una elipse\n",
        "3. En el lado inferior del rectángulo dibuje cuatro rectángulos más pequeños y delgados\n",
        "4. En otra de las esquinas del rectángulo dibuje un triángulo isósceles\n",
        "5. En la elipse dibuje dos círculos pequeños\n",
        "6. Sobre  la elipse dibuje un rectangulo pequeño  conteniendo dos circulos y en cada uno de dichos circulos dibuje un circulo negro\n",
        "7. Dibuje dos triángulos isósceles pequeños, uno a cada lado del rectángulo pequeño\n",
        "8. Dibuje un semicírculo sobre el lado inferior del rectángulo grande\n",
        "9. Dibuje dos elipses negras en el rectángulo grande\n"
      ],
      "metadata": {
        "id": "euXKry2xwfGt"
      }
    },
    {
      "cell_type": "markdown",
      "source": [
        "Acabamos de seguir las instrucciones para la creación de un modelo con base en la verbalización que se nos dio de este. Podriamos preguntarnos:\n",
        "* ¿Qué tanto nos fue posible reproducir el modelo con base en su verbalización? - ([verbalización vs modelo](https://drive.google.com/file/d/1p_clA24WFbhfgiPAVg3iIJoWnjXP6_j2/view?usp=drive_link))\n",
        "* ¿Qué tanto representa el modelo la realidad? ([modelo vs realidad](https://drive.google.com/file/d/1aLvHtJ7v5bGpMerrmQLqxxbnl0A0XOAX/view?usp=drive_link))\n",
        "\n"
      ],
      "metadata": {
        "id": "FI9TyXEGxiHE"
      }
    },
    {
      "cell_type": "markdown",
      "source": [
        "### <font color='85a900'> **Formulación del modelo** </font>\n",
        "\n",
        "La formulación del modelo expresa el mdoelo verbalizado en los terminos necesarios para darle solución.\n",
        "\n",
        "En el caso en el que se recurre a una formulación matemática,\n",
        "esta puede ser **concreta** o específica cuando los datos y la estructura del modelo están imbricados para un caso particular, o puede ser **abstracta** o general, en la cual la estructura del modelo no depende de los datos y se expresa usando la notación elegida en el primer paso.\n",
        "\n",
        "En el caso de nuestro ejemplo, hemos planteado las dos formulaciones anteriormente:\n"
      ],
      "metadata": {
        "id": "o5sOderLy6f3"
      }
    },
    {
      "cell_type": "markdown",
      "source": [
        "Primero consideremos las **decisiones**, Para cada pedido $i$ debe decidirse si se produce o no:\n",
        "\n",
        "> $x_i =\n",
        "\\begin{cases}\n",
        "1 & \\text{se produce el pedido } i , \\\\\n",
        "0 & \\text{no se produce el pedido } i\n",
        "\\end{cases}$\n",
        "\n",
        "Nuestro **objetivo** es máximizar la utilidad\n",
        "> $\\text{Maximizar} \\quad  Z = 73x_1 + 85x_2 + 89x_3 + 73x_4 + 52x_5 + 71x_6 + 51x_7 + 73x_8 + 93x_9 + 79x_{10}$\n",
        "\n",
        "No debe **sobrepasarse la capacidad **de la linea\n",
        "> $16x_1 + 29x_2 + 24x_3 + 20x_4 + 17x_5 + 30x_6 + 32x_7 + 28x_8 + 20x_9 + 20x_{10} \\leq 110$\n",
        "\n",
        "los pedidos no puden fragmentarse\n",
        "\n",
        "> $x_1$, $x_2$, $x_3$, $x_4$, $x_5$, $x_6$, $x_7$, $x_8$, $x_9$ $\\in \\{0,1\\}$ $\n",
        "\n",
        "\n"
      ],
      "metadata": {
        "id": "Blmv9ub8z5xr"
      }
    },
    {
      "cell_type": "markdown",
      "source": [
        "En una forma más compacta, usando la notación que definimos anteriormente, podria escribirse como:"
      ],
      "metadata": {
        "id": "oFdOaHNyoOIS"
      }
    },
    {
      "cell_type": "markdown",
      "source": [
        "\\begin{align}\n",
        "    \\text{Maximize} \\quad & Z = \\sum_{i \\in I} u_i x_i \\\\\n",
        "    \\text{Subject to}\\\\\n",
        "    & \\sum_{i \\in I} w_i x_i \\leq C \\\\\n",
        "    & x_i \\in \\{0, 1\\} \\quad \\forall i \\in I\n",
        "\\end{align}"
      ],
      "metadata": {
        "id": "dsg3SZOZ8fD5"
      }
    },
    {
      "cell_type": "markdown",
      "source": [
        "Alternativamente, dado el caso en el que no es posible formular matemáticamente el modelo o el método de solución aproximado que emplearemos no lo requiere. El problema podria representarse como:\n",
        "\n",
        "* Un vector de decisiones en el que cada posición indica si se produce o no el pedido asociado a la posición. Es decir, el siguiente vector representa el caso en el que se producen los pedidos $\\{1, 2, 5, 6\\}$:\n",
        "  \n",
        "  >$x = [1,1,0,0,1,1,0,0,0,0,]$\n",
        "\n",
        "* Un vector asociado a la utilidad de cada pedido y otro a la cantidad de galletas requerida por el\n",
        "  > $u = [73, 85, 89, 73, 52, 71, 102, 73, 93, 79]$\n",
        "  > $w = [16, 29, 24, 20, 17, 30, 32, 28, 20, 20]$\n",
        "\n",
        "* Debemos maximizar la utilidad total, la cual podemos calcular como el producto elemento a elemnto (producto punto) de los pedidos seleccionados por su utilidad\n",
        ">$\\text{maximizar} \\ u.x$\n",
        "\n",
        "* Debemos garantizar que la cantidad total producida producida, la cual podemos calcular como el producto elemento a elemento (producto punto) de los pedidos seleccionados por la cantidad de galletas que requieren, no sobrepase la capacidad total\n",
        "> $ w.x$ debe ser menor que $C$"
      ],
      "metadata": {
        "id": "eTaTrdzu0qA7"
      }
    },
    {
      "cell_type": "markdown",
      "source": [
        "### <font color='85a900'> **Implementación del modelo** </font>\n",
        "\n",
        "En el caso en el cual formulamos matemáticamente el modelo y deseamos hacer uso de un `optimizador` para resolverlo. Debemos:\n",
        "\n",
        "\n",
        "*   Escribir el modelo formulado en la sintaxis del **lenguaje de modelación** que escogimos\n",
        "*   Pasar el modelo en el lenguaje de modelación a un **optimizador** (`solver`) que lo resuleva y nos retorne la información de la solución\n",
        "\n",
        "Alteranativamente, si deseamos resolver el modelo para ser resuleto con un método aproximado. Usuaalmente debemos implementar en un lenguaje de programación el algoritmo que resuelve el modelo que describimos. Algunos de dichos algoritmos son, como hemos señalado anteriormente, heurísticos o metaheurísticos.\n",
        "\n",
        "La siguente figura resume las opciones decritas:\n",
        "\n",
        "<a target=\"_blank\">\n",
        "  <img src=\"https://docs.google.com/uc?export=download&id=1WelPJr41NE9Tj2HjjZ3Ld2K1eg8-_7kO\" alt=\"Image description\" style=\"width:200px;\">\n",
        "</a>\n",
        "\n"
      ],
      "metadata": {
        "id": "dxO2adcA3fok"
      }
    },
    {
      "cell_type": "markdown",
      "source": [
        "## <font color='#ff6d33'> **Modelos lógicos (Logic-based models)** </font>\n",
        "\n",
        "Los modelos basados en lógica son descripciones hipotéticas de la cadena de causas y efectos que conducen a un resultado de interés. En el contexto de los sistemas de información, pueden incluir sistemas basados en reglas, representaciones del conocimiento experto y la obtención de conocimiento del dominio para apoyar la toma de decisiones proactiva en aplicaciones de análisis prescriptivo."
      ],
      "metadata": {
        "id": "qzI3XC3oBeS1"
      }
    },
    {
      "cell_type": "markdown",
      "source": [
        "# <font color='FD6E72'> **Nuestro modelo extendido** </font>\n",
        "\n",
        "Extenderemos el modelo que hemos venido discutiendo para evidenciar como la modelación no es un proceso lineal sino que en muchos casos requiere de iterar y devolverse a pasos anteriores de la metodología descrita"
      ],
      "metadata": {
        "id": "9j2M5sQZOUCZ"
      }
    },
    {
      "cell_type": "markdown",
      "source": [
        "\n",
        "\n",
        "Una compañia de galletas tiene **cinco lineas** que procesan un único tipo de galleta. El plan de demanda contiene las ordenes de 10 clientes (en miles de galletas) y la utilidad (en millones de pesos) que cada una de ellas genera en cada uno de las lineas\n",
        "\n",
        "\n",
        "|          | Orden 1 | Orden 2 | Orden 3 | Orden 4 | Orden 5 | Orden 6 | Orden 7 | Orden 8 | Orden 9 | Orden 10 |\n",
        "|----------|---------|---------|---------|---------|---------|---------|---------|---------|---------|----------|\n",
        "| Cantidad |   16    |   29    |   24    |   20    |   17    |   30    |   32    |   28    |   20    |    20    |\n",
        "| Utilidad 1 |   73    |   85    |   89    |   73    |   52    |   71    |   102   |   73    |   93    |    79    |\n",
        "| Utilidad 2 |   67    |   79    |   88    |   65    |   50    |   72    |   98    |   70    |   90    |    75    |\n",
        "| Utilidad 3 |   70    |   82    |   87    |   68    |   53    |   69    |   99    |   72    |   91    |    77    |\n",
        "| Utilidad 4 |   75    |   84    |   86    |   71    |   51    |   70    |   101   |   74    |   92    |    78    |\n",
        "| Utilidad 5 |   72    |   81    |   85    |   66    |   54    |   73    |   97    |   71    |   89    |    76    |\n",
        "\n",
        "\n",
        "La política de la empresa estipula que a un cliente se le despacha  el total de su demanda o en caso contrarion no se le despacha nada. La capacidad de cada linea es 55 mil galletas, pero alistar cualquiera de las lineas sin importar el número de galletas que se produzcan en ella tiene un costo de 200. La decisión que debe tomarse es:\n",
        "\n",
        "\n",
        "> **¿Cuáles de las ordenes deben producirse y en que líneas deben hacerse?**\n"
      ],
      "metadata": {
        "id": "ryECV9Pn44H-"
      }
    },
    {
      "cell_type": "markdown",
      "source": [
        "## <font color='#ff6d33'> **Verbalizar el problema** </font>\n",
        "\n",
        "* <font color='85a900'>**Decisiones** </font>\n",
        "  * Debe decidirse cuáles lineas activar (alistar)\n",
        "  * Para cada pedido debe decidirse si producirlo o no producirlo y en caso de producirlo en cuál de las lineas debería producirse\n",
        "\n",
        "* <font color='85a900'>**Objetivo** </font>\n",
        "\n",
        "  Generar la máxima utilidad entendida como la utilidad generada por los pedidos producidos menos el costo de alistar las líneas que entran en operación\n",
        "\n",
        "* <font color='85a900'>**Restricciones** </font>\n",
        "\n",
        "  * La cantidad de unidades de galleta requerida por los pedidos a producir en cada línea no debe sobrepasar su capacidad\n",
        "  * Cada orden debe producirse cuando más en una linea\n",
        "  * Las ordenes no pueden fraccionarse"
      ],
      "metadata": {
        "id": "cLVE1yb-44IJ"
      }
    },
    {
      "cell_type": "markdown",
      "source": [
        "## <font color='#ff6d33'> **Modelo matemático** </font>"
      ],
      "metadata": {
        "id": "GyM6oBW544IJ"
      }
    },
    {
      "cell_type": "markdown",
      "source": [
        "### <font color='85a900'> **Formulación** </font>\n",
        "\n",
        "Es posible modelar este problema mediante expresiones mátematicas:\n",
        "\n",
        "Primero consideremos las decisiones,\n",
        "\n",
        "* Para cada linea $j$ debe decidirse si se activa (alista):\n",
        "  >  $y_{j} =\n",
        "  \\begin{cases}\n",
        "  1 & \\text{Si se activa la línea } j, \\\\\n",
        "  0 & \\text{Si No se activa la línea } j\n",
        "  \\end{cases}$\n",
        "\n",
        "* Para cada pedido $i$ debe decidirse si se produce o no en la linea $j$:\n",
        "\n",
        "  > $x_{ij} =\n",
        "  \\begin{cases}\n",
        "  1 & \\text{se produce el pedido } i \\text{ en la línea } j, \\\\\n",
        "  0 & \\text{ no se produce el pedido } i \\text{ en la línea } j, \\\\\n",
        "  \\end{cases}$\n",
        "\n",
        "Nuestro objetivo es máximizar la utilidad total. Esta esta compuesta por dos partes:\n",
        "\n",
        "* La utilidad de los pedidos producidos\n",
        "\n",
        "  > $\\text{ingreso} =  73x_{1,1} + 85x_{2,1} + \\ldots + 93x_{9,1} + 79x_{10,1} + 79x_{1,2} + 88x_{2,2} + \\ldots + 90x_{9,2} + 75x_{10,2}$\n",
        "\n",
        "* El costo de activar las lineas\n",
        "  > $\\text{egreso} = 200y_1 + 200y_2 + 200y_3 + 200y_5 + 200y_5\n",
        "\n",
        "Siendo el objetivo\n",
        "> $\\text{maximizar} \\quad \\text{ingresos} - \\text{egresos}$\n",
        "\n",
        "\n",
        "No debe sobrepasarse la capacidad de la linea\n",
        "> $16x_{1,1} + 29x_{2,1} + 24x_{3,1} + 20x_{4,1} + 17x_{5,1} + 30x_{6,1} + 32x_{7,1} + 28x_{8,1} + 20x_{9,1} + 20x_{10,1} \\leq 55$\n",
        "> $16x_{1,2} + 29x_{2,2} + 24x_{3,2} + 20x_{4,2} + 17x_{5,2} + 30x_{6,2} + 32x_{7,2} + 28x_{8,2} + 20x_{9,2} + 20x_{10,2} \\leq 55$\n",
        "> $16x_{1,3} + 29x_{2,3} + 24x_{3,3} + 20x_{4,3} + 17x_{5,3} + 30x_{6,3} + 32x_{7,3} + 28x_{8,3} + 20x_{9,3} + 20x_{10,3} \\leq 55$\n",
        "> $16x_{1,4} + 29x_{2,4} + 24x_{3,4} + 20x_{4,4} + 17x_{5,4} + 30x_{6,4} + 32x_{7,4} + 28x_{8,4} + 20x_{9,4} + 20x_{10,4} \\leq 55$\n",
        "> $16x_{1,5} + 29x_{2,5} + 24x_{3,5} + 20x_{4,5} + 17x_{5,5} + 30x_{6,5} + 32x_{7,5} + 28x_{8,5} + 20x_{9,5} + 20x_{10,5} \\leq 55$\n",
        "\n",
        "Cada orden se procesa cuando más en una línea\n",
        "> $\\begin{align*}\n",
        "  x_{1,1} + x_{1,2} + x_{1,3} + x_{1,4}+ x_{1,5} \\leq 1 \\\\\n",
        "  x_{2,1} + x_{2,2} + x_{2,3} + x_{2,4} + x_{2,5} \\leq 1 \\\\\n",
        "  x_{3,1} + x_{3,2} + x_{3,3} + x_{3,4} + x_{3,5} \\leq 1 \\\\\n",
        "  x_{4,1} + x_{4,2} + x_{4,3} + x_{4,4} + x_{4,5} \\leq 1 \\\\\n",
        "  x_{5,1} + x_{5,2} + x_{5,3} + x_{5,4} + x_{5,5} \\leq 1 \\\\\n",
        "  x_{6,1} + x_{6,2} + x_{6,3} + x_{6,4} + x_{6,5} \\leq 1 \\\\\n",
        "  x_{7,1} + x_{7,2} + x_{7,3} + x_{7,4} + x_{7,5} \\leq 1 \\\\\n",
        "  x_{8,1} + x_{8,2} + x_{8,3} + x_{8,4} + x_{8,5} \\leq 1 \\\\\n",
        "  x_{9,1} + x_{9,2} + x_{9,3} + x_{9,4} + x_{9,5} \\leq 1 \\\\\n",
        "  x_{10,1} + x_{10,2} + x_{10,3} + x_{10,4} + x_{10,5} \\leq 1\n",
        "\\end{align*}$\n",
        "\n",
        "LAs ordenes no pueden fraccionarse\n",
        "> $x_{1,1}, x_{2,1} \\ldots x_{9,5}, x_{10,5} \\in \\{0,1\\}$\n",
        "\n"
      ],
      "metadata": {
        "id": "Q034vrAF44IJ"
      }
    },
    {
      "cell_type": "markdown",
      "source": [
        "### <font color='85a900'> **Implementación** </font>"
      ],
      "metadata": {
        "id": "KlJ0di9944IJ"
      }
    },
    {
      "cell_type": "markdown",
      "source": [
        "El modelo se implementa en un **lenguaje de modelación** y se resuelve haciendo uso de un **optimizador**"
      ],
      "metadata": {
        "id": "8xdLBb8d44IJ"
      }
    },
    {
      "cell_type": "code",
      "source": [
        "!pip install pyomo\n",
        "!pip install highspy"
      ],
      "metadata": {
        "colab": {
          "base_uri": "https://localhost:8080/"
        },
        "outputId": "87fa470c-c061-4b6c-ccca-a08ce9a7042e",
        "id": "ORYXWHtd44IJ"
      },
      "execution_count": null,
      "outputs": [
        {
          "output_type": "stream",
          "name": "stdout",
          "text": [
            "Collecting pyomo\n",
            "  Downloading Pyomo-6.8.0-cp310-cp310-manylinux_2_17_x86_64.manylinux2014_x86_64.whl.metadata (8.0 kB)\n",
            "Collecting ply (from pyomo)\n",
            "  Downloading ply-3.11-py2.py3-none-any.whl.metadata (844 bytes)\n",
            "Downloading Pyomo-6.8.0-cp310-cp310-manylinux_2_17_x86_64.manylinux2014_x86_64.whl (13.3 MB)\n",
            "\u001b[2K   \u001b[90m━━━━━━━━━━━━━━━━━━━━━━━━━━━━━━━━━━━━━━━━\u001b[0m \u001b[32m13.3/13.3 MB\u001b[0m \u001b[31m36.6 MB/s\u001b[0m eta \u001b[36m0:00:00\u001b[0m\n",
            "\u001b[?25hDownloading ply-3.11-py2.py3-none-any.whl (49 kB)\n",
            "\u001b[2K   \u001b[90m━━━━━━━━━━━━━━━━━━━━━━━━━━━━━━━━━━━━━━━━\u001b[0m \u001b[32m49.6/49.6 kB\u001b[0m \u001b[31m1.6 MB/s\u001b[0m eta \u001b[36m0:00:00\u001b[0m\n",
            "\u001b[?25hInstalling collected packages: ply, pyomo\n",
            "Successfully installed ply-3.11 pyomo-6.8.0\n",
            "Collecting highspy\n",
            "  Downloading highspy-1.7.2-cp310-cp310-manylinux_2_17_x86_64.manylinux2014_x86_64.whl.metadata (10 kB)\n",
            "Requirement already satisfied: numpy in /usr/local/lib/python3.10/dist-packages (from highspy) (1.26.4)\n",
            "Downloading highspy-1.7.2-cp310-cp310-manylinux_2_17_x86_64.manylinux2014_x86_64.whl (2.1 MB)\n",
            "\u001b[2K   \u001b[90m━━━━━━━━━━━━━━━━━━━━━━━━━━━━━━━━━━━━━━━━\u001b[0m \u001b[32m2.1/2.1 MB\u001b[0m \u001b[31m26.0 MB/s\u001b[0m eta \u001b[36m0:00:00\u001b[0m\n",
            "\u001b[?25hInstalling collected packages: highspy\n",
            "Successfully installed highspy-1.7.2\n"
          ]
        }
      ]
    },
    {
      "cell_type": "code",
      "source": [
        "from pyomo.environ import *\n",
        "\n",
        "def create_multiknapsack_model(values, weigths, capacity, cost_setup, linked=False):\n",
        "    # Create a concrete Pyomo model\n",
        "    model = ConcreteModel()\n",
        "\n",
        "    n_items = len(weigths.keys())\n",
        "    n_knapsacks = len(capacity.keys())\n",
        "\n",
        "    # Define sets\n",
        "    model.N = Set(initialize=list(range(1, n_items+1)))  # Set of items\n",
        "    model.M = Set(initialize=list(range(1, n_knapsacks+1)))  # Set of knapsacks\n",
        "\n",
        "     # Define parameters\n",
        "    model.v = Param(model.N, model.M, initialize=values)   # Values of items for each knapsack\n",
        "    model.w = Param(model.N, initialize=weigths)   # Weights of items\n",
        "    model.C = Param(model.M, initialize=capacity)   # Capacities of knapsacks\n",
        "\n",
        "    # Define decision variables\n",
        "    model.x = Var(model.N, model.M, domain=Binary)  # Binary variables for item placement\n",
        "    model.y = Var(model.M, domain=Binary)  # Binary variables for lines\n",
        "\n",
        "    # Objective function: Maximize total value\n",
        "    def objective_rule(model):\n",
        "        return sum(model.v[i, k] * model.x[i, k] for i in model.N for k in model.M) - sum(cost_setup[k] * model.y[k] for k in model.M)\n",
        "    model.obj = Objective(rule=objective_rule, sense=maximize)\n",
        "\n",
        "    # Constraint 1: Capacity constraint for each knapsack\n",
        "    def capacity_constraint(model, k):\n",
        "      if linked:\n",
        "        return sum(model.w[i] * model.x[i, k] for i in model.N) <= model.C[k]*model.y[k]\n",
        "      else:\n",
        "        return sum(model.w[i] * model.x[i, k] for i in model.N) <= model.C[k]\n",
        "    model.capacity_constraints = Constraint(model.M, rule=capacity_constraint)\n",
        "\n",
        "    # Constraint 2: Each item can be placed in at most one knapsack\n",
        "    def item_assignment_constraint(model, i):\n",
        "        return sum(model.x[i, k] for k in model.M) <= 1\n",
        "    model.item_constraints = Constraint(model.N, rule=item_assignment_constraint)\n",
        "\n",
        "    return model\n"
      ],
      "metadata": {
        "id": "_CXCz4IP44IJ"
      },
      "execution_count": null,
      "outputs": []
    },
    {
      "cell_type": "markdown",
      "source": [
        "Corramos la instancia de ejemplo"
      ],
      "metadata": {
        "id": "jxOujT1j44IK"
      }
    },
    {
      "cell_type": "code",
      "source": [
        "# Utilities\n",
        "import pandas as pd\n",
        "values = {\n",
        "    (1, 1): 73, (1, 2): 67, (1, 3): 70, (1, 4): 75, (1, 5): 72,\n",
        "    (2, 1): 85, (2, 2): 79, (2, 3): 82, (2, 4): 84, (2, 5): 81,\n",
        "    (3, 1): 89, (3, 2): 88, (3, 3): 87, (3, 4): 86, (3, 5): 85,\n",
        "    (4, 1): 73, (4, 2): 65, (4, 3): 68, (4, 4): 71, (4, 5): 66,\n",
        "    (5, 1): 52, (5, 2): 50, (5, 3): 53, (5, 4): 51, (5, 5): 54,\n",
        "    (6, 1): 71, (6, 2): 72, (6, 3): 69, (6, 4): 70, (6, 5): 73,\n",
        "    (7, 1): 102, (7, 2): 98, (7, 3): 99, (7, 4): 101, (7, 5): 97,\n",
        "    (8, 1): 73, (8, 2): 70, (8, 3): 72, (8, 4): 74, (8, 5): 71,\n",
        "    (9, 1): 93, (9, 2): 90, (9, 3): 91, (9, 4): 92, (9, 5): 89,\n",
        "    (10, 1): 79, (10, 2): 75, (10, 3): 77, (10, 4): 78, (10, 5): 76\n",
        "}\n",
        "\n",
        "\n",
        "# quiantity\n",
        "weigths = {1: 16, 2: 29, 3: 24, 4: 20, 5: 17, 6: 30, 7: 32, 8: 28, 9: 20, 10: 20}\n",
        "\n",
        "# Capacities of the two knapsacks\n",
        "capacity= {1: 55, 2: 55, 3: 55, 4: 55, 5: 55}\n",
        "\n",
        "# Cost of setting up each knapsack\n",
        "cost_setup = {1: 150, 2: 150, 3: 150, 4: 150, 5: 150}\n",
        "\n",
        "# Create the model\n",
        "model = create_multiknapsack_model(values, weigths, capacity, cost_setup, linked = False)\n",
        "\n",
        "# Solve the model using a solver\n",
        "solver = SolverFactory('appsi_highs')\n",
        "results = solver.solve(model, tee=False)\n",
        "\n",
        "# Display results\n",
        "print(\"Objective value (Total value):\", model.obj())\n"
      ],
      "metadata": {
        "colab": {
          "base_uri": "https://localhost:8080/"
        },
        "outputId": "3c08ae3e-4807-43a7-fef9-88d2ffab410c",
        "id": "y2v1mfDB44IK"
      },
      "execution_count": null,
      "outputs": [
        {
          "output_type": "stream",
          "name": "stdout",
          "text": [
            "Objective value (Total value): 788.0\n"
          ]
        }
      ]
    },
    {
      "cell_type": "markdown",
      "source": [
        "Obtener valor de las variables de decision"
      ],
      "metadata": {
        "id": "kgdJ4afBKdUB"
      }
    },
    {
      "cell_type": "code",
      "source": [
        "def get_variables(model, capacity):\n",
        "  # obtener las x\n",
        "  data = []\n",
        "  for i in model.N:\n",
        "      for k in model.M:\n",
        "          if model.x[i, k].value == 1:\n",
        "              row = [i, k, model.v[i,k], model.w[i]]\n",
        "\n",
        "              data.append(row)\n",
        "              break\n",
        "  df_x = pd.DataFrame(data, columns=['Item', 'Line', 'Value', 'Weight'])\n",
        "  # obtener las y\n",
        "  data = []\n",
        "  for k in model.M:\n",
        "    if model.y[k].value == 1:\n",
        "      row = [k, model.y[k].value, capacity[k],'white', ]\n",
        "    else:\n",
        "      row = [k, model.y[k].value, capacity[k],'grey']\n",
        "    data.append(row)\n",
        "  df_y = pd.DataFrame(data, columns=['Line', 'activate', 'capacity','color'])\n",
        "\n",
        "  return df_x, df_y\n",
        "\n",
        "\n",
        "df_x, df_y = get_variables(model, capacity)\n"
      ],
      "metadata": {
        "id": "6rhs9opLKg10"
      },
      "execution_count": null,
      "outputs": []
    },
    {
      "cell_type": "code",
      "source": [
        "df_x\n",
        "\n",
        "\n"
      ],
      "metadata": {
        "colab": {
          "base_uri": "https://localhost:8080/",
          "height": 363
        },
        "id": "N2d7n6PMG6v5",
        "outputId": "c6e9d5ae-ce57-44d1-cc02-b01ba0445c84"
      },
      "execution_count": null,
      "outputs": [
        {
          "output_type": "execute_result",
          "data": {
            "text/plain": [
              "   Item  Line  Value  Weight\n",
              "0     1     4     75      16\n",
              "1     2     3     82      29\n",
              "2     3     2     88      24\n",
              "3     4     1     73      20\n",
              "4     5     5     54      17\n",
              "5     6     5     73      30\n",
              "6     7     1    102      32\n",
              "7     8     4     74      28\n",
              "8     9     2     90      20\n",
              "9    10     3     77      20"
            ],
            "text/html": [
              "\n",
              "  <div id=\"df-640e465d-440f-4d34-9c6d-8cb919ebdd6f\" class=\"colab-df-container\">\n",
              "    <div>\n",
              "<style scoped>\n",
              "    .dataframe tbody tr th:only-of-type {\n",
              "        vertical-align: middle;\n",
              "    }\n",
              "\n",
              "    .dataframe tbody tr th {\n",
              "        vertical-align: top;\n",
              "    }\n",
              "\n",
              "    .dataframe thead th {\n",
              "        text-align: right;\n",
              "    }\n",
              "</style>\n",
              "<table border=\"1\" class=\"dataframe\">\n",
              "  <thead>\n",
              "    <tr style=\"text-align: right;\">\n",
              "      <th></th>\n",
              "      <th>Item</th>\n",
              "      <th>Line</th>\n",
              "      <th>Value</th>\n",
              "      <th>Weight</th>\n",
              "    </tr>\n",
              "  </thead>\n",
              "  <tbody>\n",
              "    <tr>\n",
              "      <th>0</th>\n",
              "      <td>1</td>\n",
              "      <td>4</td>\n",
              "      <td>75</td>\n",
              "      <td>16</td>\n",
              "    </tr>\n",
              "    <tr>\n",
              "      <th>1</th>\n",
              "      <td>2</td>\n",
              "      <td>3</td>\n",
              "      <td>82</td>\n",
              "      <td>29</td>\n",
              "    </tr>\n",
              "    <tr>\n",
              "      <th>2</th>\n",
              "      <td>3</td>\n",
              "      <td>2</td>\n",
              "      <td>88</td>\n",
              "      <td>24</td>\n",
              "    </tr>\n",
              "    <tr>\n",
              "      <th>3</th>\n",
              "      <td>4</td>\n",
              "      <td>1</td>\n",
              "      <td>73</td>\n",
              "      <td>20</td>\n",
              "    </tr>\n",
              "    <tr>\n",
              "      <th>4</th>\n",
              "      <td>5</td>\n",
              "      <td>5</td>\n",
              "      <td>54</td>\n",
              "      <td>17</td>\n",
              "    </tr>\n",
              "    <tr>\n",
              "      <th>5</th>\n",
              "      <td>6</td>\n",
              "      <td>5</td>\n",
              "      <td>73</td>\n",
              "      <td>30</td>\n",
              "    </tr>\n",
              "    <tr>\n",
              "      <th>6</th>\n",
              "      <td>7</td>\n",
              "      <td>1</td>\n",
              "      <td>102</td>\n",
              "      <td>32</td>\n",
              "    </tr>\n",
              "    <tr>\n",
              "      <th>7</th>\n",
              "      <td>8</td>\n",
              "      <td>4</td>\n",
              "      <td>74</td>\n",
              "      <td>28</td>\n",
              "    </tr>\n",
              "    <tr>\n",
              "      <th>8</th>\n",
              "      <td>9</td>\n",
              "      <td>2</td>\n",
              "      <td>90</td>\n",
              "      <td>20</td>\n",
              "    </tr>\n",
              "    <tr>\n",
              "      <th>9</th>\n",
              "      <td>10</td>\n",
              "      <td>3</td>\n",
              "      <td>77</td>\n",
              "      <td>20</td>\n",
              "    </tr>\n",
              "  </tbody>\n",
              "</table>\n",
              "</div>\n",
              "    <div class=\"colab-df-buttons\">\n",
              "\n",
              "  <div class=\"colab-df-container\">\n",
              "    <button class=\"colab-df-convert\" onclick=\"convertToInteractive('df-640e465d-440f-4d34-9c6d-8cb919ebdd6f')\"\n",
              "            title=\"Convert this dataframe to an interactive table.\"\n",
              "            style=\"display:none;\">\n",
              "\n",
              "  <svg xmlns=\"http://www.w3.org/2000/svg\" height=\"24px\" viewBox=\"0 -960 960 960\">\n",
              "    <path d=\"M120-120v-720h720v720H120Zm60-500h600v-160H180v160Zm220 220h160v-160H400v160Zm0 220h160v-160H400v160ZM180-400h160v-160H180v160Zm440 0h160v-160H620v160ZM180-180h160v-160H180v160Zm440 0h160v-160H620v160Z\"/>\n",
              "  </svg>\n",
              "    </button>\n",
              "\n",
              "  <style>\n",
              "    .colab-df-container {\n",
              "      display:flex;\n",
              "      gap: 12px;\n",
              "    }\n",
              "\n",
              "    .colab-df-convert {\n",
              "      background-color: #E8F0FE;\n",
              "      border: none;\n",
              "      border-radius: 50%;\n",
              "      cursor: pointer;\n",
              "      display: none;\n",
              "      fill: #1967D2;\n",
              "      height: 32px;\n",
              "      padding: 0 0 0 0;\n",
              "      width: 32px;\n",
              "    }\n",
              "\n",
              "    .colab-df-convert:hover {\n",
              "      background-color: #E2EBFA;\n",
              "      box-shadow: 0px 1px 2px rgba(60, 64, 67, 0.3), 0px 1px 3px 1px rgba(60, 64, 67, 0.15);\n",
              "      fill: #174EA6;\n",
              "    }\n",
              "\n",
              "    .colab-df-buttons div {\n",
              "      margin-bottom: 4px;\n",
              "    }\n",
              "\n",
              "    [theme=dark] .colab-df-convert {\n",
              "      background-color: #3B4455;\n",
              "      fill: #D2E3FC;\n",
              "    }\n",
              "\n",
              "    [theme=dark] .colab-df-convert:hover {\n",
              "      background-color: #434B5C;\n",
              "      box-shadow: 0px 1px 3px 1px rgba(0, 0, 0, 0.15);\n",
              "      filter: drop-shadow(0px 1px 2px rgba(0, 0, 0, 0.3));\n",
              "      fill: #FFFFFF;\n",
              "    }\n",
              "  </style>\n",
              "\n",
              "    <script>\n",
              "      const buttonEl =\n",
              "        document.querySelector('#df-640e465d-440f-4d34-9c6d-8cb919ebdd6f button.colab-df-convert');\n",
              "      buttonEl.style.display =\n",
              "        google.colab.kernel.accessAllowed ? 'block' : 'none';\n",
              "\n",
              "      async function convertToInteractive(key) {\n",
              "        const element = document.querySelector('#df-640e465d-440f-4d34-9c6d-8cb919ebdd6f');\n",
              "        const dataTable =\n",
              "          await google.colab.kernel.invokeFunction('convertToInteractive',\n",
              "                                                    [key], {});\n",
              "        if (!dataTable) return;\n",
              "\n",
              "        const docLinkHtml = 'Like what you see? Visit the ' +\n",
              "          '<a target=\"_blank\" href=https://colab.research.google.com/notebooks/data_table.ipynb>data table notebook</a>'\n",
              "          + ' to learn more about interactive tables.';\n",
              "        element.innerHTML = '';\n",
              "        dataTable['output_type'] = 'display_data';\n",
              "        await google.colab.output.renderOutput(dataTable, element);\n",
              "        const docLink = document.createElement('div');\n",
              "        docLink.innerHTML = docLinkHtml;\n",
              "        element.appendChild(docLink);\n",
              "      }\n",
              "    </script>\n",
              "  </div>\n",
              "\n",
              "\n",
              "<div id=\"df-55c31c65-7185-447f-8206-a0f108557673\">\n",
              "  <button class=\"colab-df-quickchart\" onclick=\"quickchart('df-55c31c65-7185-447f-8206-a0f108557673')\"\n",
              "            title=\"Suggest charts\"\n",
              "            style=\"display:none;\">\n",
              "\n",
              "<svg xmlns=\"http://www.w3.org/2000/svg\" height=\"24px\"viewBox=\"0 0 24 24\"\n",
              "     width=\"24px\">\n",
              "    <g>\n",
              "        <path d=\"M19 3H5c-1.1 0-2 .9-2 2v14c0 1.1.9 2 2 2h14c1.1 0 2-.9 2-2V5c0-1.1-.9-2-2-2zM9 17H7v-7h2v7zm4 0h-2V7h2v10zm4 0h-2v-4h2v4z\"/>\n",
              "    </g>\n",
              "</svg>\n",
              "  </button>\n",
              "\n",
              "<style>\n",
              "  .colab-df-quickchart {\n",
              "      --bg-color: #E8F0FE;\n",
              "      --fill-color: #1967D2;\n",
              "      --hover-bg-color: #E2EBFA;\n",
              "      --hover-fill-color: #174EA6;\n",
              "      --disabled-fill-color: #AAA;\n",
              "      --disabled-bg-color: #DDD;\n",
              "  }\n",
              "\n",
              "  [theme=dark] .colab-df-quickchart {\n",
              "      --bg-color: #3B4455;\n",
              "      --fill-color: #D2E3FC;\n",
              "      --hover-bg-color: #434B5C;\n",
              "      --hover-fill-color: #FFFFFF;\n",
              "      --disabled-bg-color: #3B4455;\n",
              "      --disabled-fill-color: #666;\n",
              "  }\n",
              "\n",
              "  .colab-df-quickchart {\n",
              "    background-color: var(--bg-color);\n",
              "    border: none;\n",
              "    border-radius: 50%;\n",
              "    cursor: pointer;\n",
              "    display: none;\n",
              "    fill: var(--fill-color);\n",
              "    height: 32px;\n",
              "    padding: 0;\n",
              "    width: 32px;\n",
              "  }\n",
              "\n",
              "  .colab-df-quickchart:hover {\n",
              "    background-color: var(--hover-bg-color);\n",
              "    box-shadow: 0 1px 2px rgba(60, 64, 67, 0.3), 0 1px 3px 1px rgba(60, 64, 67, 0.15);\n",
              "    fill: var(--button-hover-fill-color);\n",
              "  }\n",
              "\n",
              "  .colab-df-quickchart-complete:disabled,\n",
              "  .colab-df-quickchart-complete:disabled:hover {\n",
              "    background-color: var(--disabled-bg-color);\n",
              "    fill: var(--disabled-fill-color);\n",
              "    box-shadow: none;\n",
              "  }\n",
              "\n",
              "  .colab-df-spinner {\n",
              "    border: 2px solid var(--fill-color);\n",
              "    border-color: transparent;\n",
              "    border-bottom-color: var(--fill-color);\n",
              "    animation:\n",
              "      spin 1s steps(1) infinite;\n",
              "  }\n",
              "\n",
              "  @keyframes spin {\n",
              "    0% {\n",
              "      border-color: transparent;\n",
              "      border-bottom-color: var(--fill-color);\n",
              "      border-left-color: var(--fill-color);\n",
              "    }\n",
              "    20% {\n",
              "      border-color: transparent;\n",
              "      border-left-color: var(--fill-color);\n",
              "      border-top-color: var(--fill-color);\n",
              "    }\n",
              "    30% {\n",
              "      border-color: transparent;\n",
              "      border-left-color: var(--fill-color);\n",
              "      border-top-color: var(--fill-color);\n",
              "      border-right-color: var(--fill-color);\n",
              "    }\n",
              "    40% {\n",
              "      border-color: transparent;\n",
              "      border-right-color: var(--fill-color);\n",
              "      border-top-color: var(--fill-color);\n",
              "    }\n",
              "    60% {\n",
              "      border-color: transparent;\n",
              "      border-right-color: var(--fill-color);\n",
              "    }\n",
              "    80% {\n",
              "      border-color: transparent;\n",
              "      border-right-color: var(--fill-color);\n",
              "      border-bottom-color: var(--fill-color);\n",
              "    }\n",
              "    90% {\n",
              "      border-color: transparent;\n",
              "      border-bottom-color: var(--fill-color);\n",
              "    }\n",
              "  }\n",
              "</style>\n",
              "\n",
              "  <script>\n",
              "    async function quickchart(key) {\n",
              "      const quickchartButtonEl =\n",
              "        document.querySelector('#' + key + ' button');\n",
              "      quickchartButtonEl.disabled = true;  // To prevent multiple clicks.\n",
              "      quickchartButtonEl.classList.add('colab-df-spinner');\n",
              "      try {\n",
              "        const charts = await google.colab.kernel.invokeFunction(\n",
              "            'suggestCharts', [key], {});\n",
              "      } catch (error) {\n",
              "        console.error('Error during call to suggestCharts:', error);\n",
              "      }\n",
              "      quickchartButtonEl.classList.remove('colab-df-spinner');\n",
              "      quickchartButtonEl.classList.add('colab-df-quickchart-complete');\n",
              "    }\n",
              "    (() => {\n",
              "      let quickchartButtonEl =\n",
              "        document.querySelector('#df-55c31c65-7185-447f-8206-a0f108557673 button');\n",
              "      quickchartButtonEl.style.display =\n",
              "        google.colab.kernel.accessAllowed ? 'block' : 'none';\n",
              "    })();\n",
              "  </script>\n",
              "</div>\n",
              "\n",
              "  <div id=\"id_a2209304-2870-4eda-a783-ceecf533f59e\">\n",
              "    <style>\n",
              "      .colab-df-generate {\n",
              "        background-color: #E8F0FE;\n",
              "        border: none;\n",
              "        border-radius: 50%;\n",
              "        cursor: pointer;\n",
              "        display: none;\n",
              "        fill: #1967D2;\n",
              "        height: 32px;\n",
              "        padding: 0 0 0 0;\n",
              "        width: 32px;\n",
              "      }\n",
              "\n",
              "      .colab-df-generate:hover {\n",
              "        background-color: #E2EBFA;\n",
              "        box-shadow: 0px 1px 2px rgba(60, 64, 67, 0.3), 0px 1px 3px 1px rgba(60, 64, 67, 0.15);\n",
              "        fill: #174EA6;\n",
              "      }\n",
              "\n",
              "      [theme=dark] .colab-df-generate {\n",
              "        background-color: #3B4455;\n",
              "        fill: #D2E3FC;\n",
              "      }\n",
              "\n",
              "      [theme=dark] .colab-df-generate:hover {\n",
              "        background-color: #434B5C;\n",
              "        box-shadow: 0px 1px 3px 1px rgba(0, 0, 0, 0.15);\n",
              "        filter: drop-shadow(0px 1px 2px rgba(0, 0, 0, 0.3));\n",
              "        fill: #FFFFFF;\n",
              "      }\n",
              "    </style>\n",
              "    <button class=\"colab-df-generate\" onclick=\"generateWithVariable('df_x')\"\n",
              "            title=\"Generate code using this dataframe.\"\n",
              "            style=\"display:none;\">\n",
              "\n",
              "  <svg xmlns=\"http://www.w3.org/2000/svg\" height=\"24px\"viewBox=\"0 0 24 24\"\n",
              "       width=\"24px\">\n",
              "    <path d=\"M7,19H8.4L18.45,9,17,7.55,7,17.6ZM5,21V16.75L18.45,3.32a2,2,0,0,1,2.83,0l1.4,1.43a1.91,1.91,0,0,1,.58,1.4,1.91,1.91,0,0,1-.58,1.4L9.25,21ZM18.45,9,17,7.55Zm-12,3A5.31,5.31,0,0,0,4.9,8.1,5.31,5.31,0,0,0,1,6.5,5.31,5.31,0,0,0,4.9,4.9,5.31,5.31,0,0,0,6.5,1,5.31,5.31,0,0,0,8.1,4.9,5.31,5.31,0,0,0,12,6.5,5.46,5.46,0,0,0,6.5,12Z\"/>\n",
              "  </svg>\n",
              "    </button>\n",
              "    <script>\n",
              "      (() => {\n",
              "      const buttonEl =\n",
              "        document.querySelector('#id_a2209304-2870-4eda-a783-ceecf533f59e button.colab-df-generate');\n",
              "      buttonEl.style.display =\n",
              "        google.colab.kernel.accessAllowed ? 'block' : 'none';\n",
              "\n",
              "      buttonEl.onclick = () => {\n",
              "        google.colab.notebook.generateWithVariable('df_x');\n",
              "      }\n",
              "      })();\n",
              "    </script>\n",
              "  </div>\n",
              "\n",
              "    </div>\n",
              "  </div>\n"
            ],
            "application/vnd.google.colaboratory.intrinsic+json": {
              "type": "dataframe",
              "variable_name": "df_x",
              "summary": "{\n  \"name\": \"df_x\",\n  \"rows\": 10,\n  \"fields\": [\n    {\n      \"column\": \"Item\",\n      \"properties\": {\n        \"dtype\": \"number\",\n        \"std\": 3,\n        \"min\": 1,\n        \"max\": 10,\n        \"num_unique_values\": 10,\n        \"samples\": [\n          9,\n          2,\n          6\n        ],\n        \"semantic_type\": \"\",\n        \"description\": \"\"\n      }\n    },\n    {\n      \"column\": \"Line\",\n      \"properties\": {\n        \"dtype\": \"number\",\n        \"std\": 1,\n        \"min\": 1,\n        \"max\": 5,\n        \"num_unique_values\": 5,\n        \"samples\": [\n          3,\n          5,\n          2\n        ],\n        \"semantic_type\": \"\",\n        \"description\": \"\"\n      }\n    },\n    {\n      \"column\": \"Value\",\n      \"properties\": {\n        \"dtype\": \"number\",\n        \"std\": 12,\n        \"min\": 54,\n        \"max\": 102,\n        \"num_unique_values\": 9,\n        \"samples\": [\n          90,\n          82,\n          102\n        ],\n        \"semantic_type\": \"\",\n        \"description\": \"\"\n      }\n    },\n    {\n      \"column\": \"Weight\",\n      \"properties\": {\n        \"dtype\": \"number\",\n        \"std\": 5,\n        \"min\": 16,\n        \"max\": 32,\n        \"num_unique_values\": 8,\n        \"samples\": [\n          29,\n          30,\n          16\n        ],\n        \"semantic_type\": \"\",\n        \"description\": \"\"\n      }\n    }\n  ]\n}"
            }
          },
          "metadata": {},
          "execution_count": 88
        }
      ]
    },
    {
      "cell_type": "code",
      "source": [
        "df_y"
      ],
      "metadata": {
        "colab": {
          "base_uri": "https://localhost:8080/",
          "height": 206
        },
        "id": "aC-bgRLELYLF",
        "outputId": "ae817f16-acc1-4051-8657-1358da24381c"
      },
      "execution_count": null,
      "outputs": [
        {
          "output_type": "execute_result",
          "data": {
            "text/plain": [
              "   Line  activate  capacity color\n",
              "0     1       0.0        55  grey\n",
              "1     2       0.0        55  grey\n",
              "2     3       0.0        55  grey\n",
              "3     4       0.0        55  grey\n",
              "4     5       0.0        55  grey"
            ],
            "text/html": [
              "\n",
              "  <div id=\"df-93fbfbcb-f9b8-4198-b7bd-10883e5c094d\" class=\"colab-df-container\">\n",
              "    <div>\n",
              "<style scoped>\n",
              "    .dataframe tbody tr th:only-of-type {\n",
              "        vertical-align: middle;\n",
              "    }\n",
              "\n",
              "    .dataframe tbody tr th {\n",
              "        vertical-align: top;\n",
              "    }\n",
              "\n",
              "    .dataframe thead th {\n",
              "        text-align: right;\n",
              "    }\n",
              "</style>\n",
              "<table border=\"1\" class=\"dataframe\">\n",
              "  <thead>\n",
              "    <tr style=\"text-align: right;\">\n",
              "      <th></th>\n",
              "      <th>Line</th>\n",
              "      <th>activate</th>\n",
              "      <th>capacity</th>\n",
              "      <th>color</th>\n",
              "    </tr>\n",
              "  </thead>\n",
              "  <tbody>\n",
              "    <tr>\n",
              "      <th>0</th>\n",
              "      <td>1</td>\n",
              "      <td>0.0</td>\n",
              "      <td>55</td>\n",
              "      <td>grey</td>\n",
              "    </tr>\n",
              "    <tr>\n",
              "      <th>1</th>\n",
              "      <td>2</td>\n",
              "      <td>0.0</td>\n",
              "      <td>55</td>\n",
              "      <td>grey</td>\n",
              "    </tr>\n",
              "    <tr>\n",
              "      <th>2</th>\n",
              "      <td>3</td>\n",
              "      <td>0.0</td>\n",
              "      <td>55</td>\n",
              "      <td>grey</td>\n",
              "    </tr>\n",
              "    <tr>\n",
              "      <th>3</th>\n",
              "      <td>4</td>\n",
              "      <td>0.0</td>\n",
              "      <td>55</td>\n",
              "      <td>grey</td>\n",
              "    </tr>\n",
              "    <tr>\n",
              "      <th>4</th>\n",
              "      <td>5</td>\n",
              "      <td>0.0</td>\n",
              "      <td>55</td>\n",
              "      <td>grey</td>\n",
              "    </tr>\n",
              "  </tbody>\n",
              "</table>\n",
              "</div>\n",
              "    <div class=\"colab-df-buttons\">\n",
              "\n",
              "  <div class=\"colab-df-container\">\n",
              "    <button class=\"colab-df-convert\" onclick=\"convertToInteractive('df-93fbfbcb-f9b8-4198-b7bd-10883e5c094d')\"\n",
              "            title=\"Convert this dataframe to an interactive table.\"\n",
              "            style=\"display:none;\">\n",
              "\n",
              "  <svg xmlns=\"http://www.w3.org/2000/svg\" height=\"24px\" viewBox=\"0 -960 960 960\">\n",
              "    <path d=\"M120-120v-720h720v720H120Zm60-500h600v-160H180v160Zm220 220h160v-160H400v160Zm0 220h160v-160H400v160ZM180-400h160v-160H180v160Zm440 0h160v-160H620v160ZM180-180h160v-160H180v160Zm440 0h160v-160H620v160Z\"/>\n",
              "  </svg>\n",
              "    </button>\n",
              "\n",
              "  <style>\n",
              "    .colab-df-container {\n",
              "      display:flex;\n",
              "      gap: 12px;\n",
              "    }\n",
              "\n",
              "    .colab-df-convert {\n",
              "      background-color: #E8F0FE;\n",
              "      border: none;\n",
              "      border-radius: 50%;\n",
              "      cursor: pointer;\n",
              "      display: none;\n",
              "      fill: #1967D2;\n",
              "      height: 32px;\n",
              "      padding: 0 0 0 0;\n",
              "      width: 32px;\n",
              "    }\n",
              "\n",
              "    .colab-df-convert:hover {\n",
              "      background-color: #E2EBFA;\n",
              "      box-shadow: 0px 1px 2px rgba(60, 64, 67, 0.3), 0px 1px 3px 1px rgba(60, 64, 67, 0.15);\n",
              "      fill: #174EA6;\n",
              "    }\n",
              "\n",
              "    .colab-df-buttons div {\n",
              "      margin-bottom: 4px;\n",
              "    }\n",
              "\n",
              "    [theme=dark] .colab-df-convert {\n",
              "      background-color: #3B4455;\n",
              "      fill: #D2E3FC;\n",
              "    }\n",
              "\n",
              "    [theme=dark] .colab-df-convert:hover {\n",
              "      background-color: #434B5C;\n",
              "      box-shadow: 0px 1px 3px 1px rgba(0, 0, 0, 0.15);\n",
              "      filter: drop-shadow(0px 1px 2px rgba(0, 0, 0, 0.3));\n",
              "      fill: #FFFFFF;\n",
              "    }\n",
              "  </style>\n",
              "\n",
              "    <script>\n",
              "      const buttonEl =\n",
              "        document.querySelector('#df-93fbfbcb-f9b8-4198-b7bd-10883e5c094d button.colab-df-convert');\n",
              "      buttonEl.style.display =\n",
              "        google.colab.kernel.accessAllowed ? 'block' : 'none';\n",
              "\n",
              "      async function convertToInteractive(key) {\n",
              "        const element = document.querySelector('#df-93fbfbcb-f9b8-4198-b7bd-10883e5c094d');\n",
              "        const dataTable =\n",
              "          await google.colab.kernel.invokeFunction('convertToInteractive',\n",
              "                                                    [key], {});\n",
              "        if (!dataTable) return;\n",
              "\n",
              "        const docLinkHtml = 'Like what you see? Visit the ' +\n",
              "          '<a target=\"_blank\" href=https://colab.research.google.com/notebooks/data_table.ipynb>data table notebook</a>'\n",
              "          + ' to learn more about interactive tables.';\n",
              "        element.innerHTML = '';\n",
              "        dataTable['output_type'] = 'display_data';\n",
              "        await google.colab.output.renderOutput(dataTable, element);\n",
              "        const docLink = document.createElement('div');\n",
              "        docLink.innerHTML = docLinkHtml;\n",
              "        element.appendChild(docLink);\n",
              "      }\n",
              "    </script>\n",
              "  </div>\n",
              "\n",
              "\n",
              "<div id=\"df-d56fa6e8-9c69-4f55-8002-656ed30c42e1\">\n",
              "  <button class=\"colab-df-quickchart\" onclick=\"quickchart('df-d56fa6e8-9c69-4f55-8002-656ed30c42e1')\"\n",
              "            title=\"Suggest charts\"\n",
              "            style=\"display:none;\">\n",
              "\n",
              "<svg xmlns=\"http://www.w3.org/2000/svg\" height=\"24px\"viewBox=\"0 0 24 24\"\n",
              "     width=\"24px\">\n",
              "    <g>\n",
              "        <path d=\"M19 3H5c-1.1 0-2 .9-2 2v14c0 1.1.9 2 2 2h14c1.1 0 2-.9 2-2V5c0-1.1-.9-2-2-2zM9 17H7v-7h2v7zm4 0h-2V7h2v10zm4 0h-2v-4h2v4z\"/>\n",
              "    </g>\n",
              "</svg>\n",
              "  </button>\n",
              "\n",
              "<style>\n",
              "  .colab-df-quickchart {\n",
              "      --bg-color: #E8F0FE;\n",
              "      --fill-color: #1967D2;\n",
              "      --hover-bg-color: #E2EBFA;\n",
              "      --hover-fill-color: #174EA6;\n",
              "      --disabled-fill-color: #AAA;\n",
              "      --disabled-bg-color: #DDD;\n",
              "  }\n",
              "\n",
              "  [theme=dark] .colab-df-quickchart {\n",
              "      --bg-color: #3B4455;\n",
              "      --fill-color: #D2E3FC;\n",
              "      --hover-bg-color: #434B5C;\n",
              "      --hover-fill-color: #FFFFFF;\n",
              "      --disabled-bg-color: #3B4455;\n",
              "      --disabled-fill-color: #666;\n",
              "  }\n",
              "\n",
              "  .colab-df-quickchart {\n",
              "    background-color: var(--bg-color);\n",
              "    border: none;\n",
              "    border-radius: 50%;\n",
              "    cursor: pointer;\n",
              "    display: none;\n",
              "    fill: var(--fill-color);\n",
              "    height: 32px;\n",
              "    padding: 0;\n",
              "    width: 32px;\n",
              "  }\n",
              "\n",
              "  .colab-df-quickchart:hover {\n",
              "    background-color: var(--hover-bg-color);\n",
              "    box-shadow: 0 1px 2px rgba(60, 64, 67, 0.3), 0 1px 3px 1px rgba(60, 64, 67, 0.15);\n",
              "    fill: var(--button-hover-fill-color);\n",
              "  }\n",
              "\n",
              "  .colab-df-quickchart-complete:disabled,\n",
              "  .colab-df-quickchart-complete:disabled:hover {\n",
              "    background-color: var(--disabled-bg-color);\n",
              "    fill: var(--disabled-fill-color);\n",
              "    box-shadow: none;\n",
              "  }\n",
              "\n",
              "  .colab-df-spinner {\n",
              "    border: 2px solid var(--fill-color);\n",
              "    border-color: transparent;\n",
              "    border-bottom-color: var(--fill-color);\n",
              "    animation:\n",
              "      spin 1s steps(1) infinite;\n",
              "  }\n",
              "\n",
              "  @keyframes spin {\n",
              "    0% {\n",
              "      border-color: transparent;\n",
              "      border-bottom-color: var(--fill-color);\n",
              "      border-left-color: var(--fill-color);\n",
              "    }\n",
              "    20% {\n",
              "      border-color: transparent;\n",
              "      border-left-color: var(--fill-color);\n",
              "      border-top-color: var(--fill-color);\n",
              "    }\n",
              "    30% {\n",
              "      border-color: transparent;\n",
              "      border-left-color: var(--fill-color);\n",
              "      border-top-color: var(--fill-color);\n",
              "      border-right-color: var(--fill-color);\n",
              "    }\n",
              "    40% {\n",
              "      border-color: transparent;\n",
              "      border-right-color: var(--fill-color);\n",
              "      border-top-color: var(--fill-color);\n",
              "    }\n",
              "    60% {\n",
              "      border-color: transparent;\n",
              "      border-right-color: var(--fill-color);\n",
              "    }\n",
              "    80% {\n",
              "      border-color: transparent;\n",
              "      border-right-color: var(--fill-color);\n",
              "      border-bottom-color: var(--fill-color);\n",
              "    }\n",
              "    90% {\n",
              "      border-color: transparent;\n",
              "      border-bottom-color: var(--fill-color);\n",
              "    }\n",
              "  }\n",
              "</style>\n",
              "\n",
              "  <script>\n",
              "    async function quickchart(key) {\n",
              "      const quickchartButtonEl =\n",
              "        document.querySelector('#' + key + ' button');\n",
              "      quickchartButtonEl.disabled = true;  // To prevent multiple clicks.\n",
              "      quickchartButtonEl.classList.add('colab-df-spinner');\n",
              "      try {\n",
              "        const charts = await google.colab.kernel.invokeFunction(\n",
              "            'suggestCharts', [key], {});\n",
              "      } catch (error) {\n",
              "        console.error('Error during call to suggestCharts:', error);\n",
              "      }\n",
              "      quickchartButtonEl.classList.remove('colab-df-spinner');\n",
              "      quickchartButtonEl.classList.add('colab-df-quickchart-complete');\n",
              "    }\n",
              "    (() => {\n",
              "      let quickchartButtonEl =\n",
              "        document.querySelector('#df-d56fa6e8-9c69-4f55-8002-656ed30c42e1 button');\n",
              "      quickchartButtonEl.style.display =\n",
              "        google.colab.kernel.accessAllowed ? 'block' : 'none';\n",
              "    })();\n",
              "  </script>\n",
              "</div>\n",
              "\n",
              "  <div id=\"id_60219439-6660-48be-a23b-e3093d056653\">\n",
              "    <style>\n",
              "      .colab-df-generate {\n",
              "        background-color: #E8F0FE;\n",
              "        border: none;\n",
              "        border-radius: 50%;\n",
              "        cursor: pointer;\n",
              "        display: none;\n",
              "        fill: #1967D2;\n",
              "        height: 32px;\n",
              "        padding: 0 0 0 0;\n",
              "        width: 32px;\n",
              "      }\n",
              "\n",
              "      .colab-df-generate:hover {\n",
              "        background-color: #E2EBFA;\n",
              "        box-shadow: 0px 1px 2px rgba(60, 64, 67, 0.3), 0px 1px 3px 1px rgba(60, 64, 67, 0.15);\n",
              "        fill: #174EA6;\n",
              "      }\n",
              "\n",
              "      [theme=dark] .colab-df-generate {\n",
              "        background-color: #3B4455;\n",
              "        fill: #D2E3FC;\n",
              "      }\n",
              "\n",
              "      [theme=dark] .colab-df-generate:hover {\n",
              "        background-color: #434B5C;\n",
              "        box-shadow: 0px 1px 3px 1px rgba(0, 0, 0, 0.15);\n",
              "        filter: drop-shadow(0px 1px 2px rgba(0, 0, 0, 0.3));\n",
              "        fill: #FFFFFF;\n",
              "      }\n",
              "    </style>\n",
              "    <button class=\"colab-df-generate\" onclick=\"generateWithVariable('df_y')\"\n",
              "            title=\"Generate code using this dataframe.\"\n",
              "            style=\"display:none;\">\n",
              "\n",
              "  <svg xmlns=\"http://www.w3.org/2000/svg\" height=\"24px\"viewBox=\"0 0 24 24\"\n",
              "       width=\"24px\">\n",
              "    <path d=\"M7,19H8.4L18.45,9,17,7.55,7,17.6ZM5,21V16.75L18.45,3.32a2,2,0,0,1,2.83,0l1.4,1.43a1.91,1.91,0,0,1,.58,1.4,1.91,1.91,0,0,1-.58,1.4L9.25,21ZM18.45,9,17,7.55Zm-12,3A5.31,5.31,0,0,0,4.9,8.1,5.31,5.31,0,0,0,1,6.5,5.31,5.31,0,0,0,4.9,4.9,5.31,5.31,0,0,0,6.5,1,5.31,5.31,0,0,0,8.1,4.9,5.31,5.31,0,0,0,12,6.5,5.46,5.46,0,0,0,6.5,12Z\"/>\n",
              "  </svg>\n",
              "    </button>\n",
              "    <script>\n",
              "      (() => {\n",
              "      const buttonEl =\n",
              "        document.querySelector('#id_60219439-6660-48be-a23b-e3093d056653 button.colab-df-generate');\n",
              "      buttonEl.style.display =\n",
              "        google.colab.kernel.accessAllowed ? 'block' : 'none';\n",
              "\n",
              "      buttonEl.onclick = () => {\n",
              "        google.colab.notebook.generateWithVariable('df_y');\n",
              "      }\n",
              "      })();\n",
              "    </script>\n",
              "  </div>\n",
              "\n",
              "    </div>\n",
              "  </div>\n"
            ],
            "application/vnd.google.colaboratory.intrinsic+json": {
              "type": "dataframe",
              "variable_name": "df_y",
              "summary": "{\n  \"name\": \"df_y\",\n  \"rows\": 5,\n  \"fields\": [\n    {\n      \"column\": \"Line\",\n      \"properties\": {\n        \"dtype\": \"number\",\n        \"std\": 1,\n        \"min\": 1,\n        \"max\": 5,\n        \"num_unique_values\": 5,\n        \"samples\": [\n          2,\n          5,\n          3\n        ],\n        \"semantic_type\": \"\",\n        \"description\": \"\"\n      }\n    },\n    {\n      \"column\": \"activate\",\n      \"properties\": {\n        \"dtype\": \"number\",\n        \"std\": 0.0,\n        \"min\": 0.0,\n        \"max\": 0.0,\n        \"num_unique_values\": 1,\n        \"samples\": [\n          0.0\n        ],\n        \"semantic_type\": \"\",\n        \"description\": \"\"\n      }\n    },\n    {\n      \"column\": \"capacity\",\n      \"properties\": {\n        \"dtype\": \"number\",\n        \"std\": 0,\n        \"min\": 55,\n        \"max\": 55,\n        \"num_unique_values\": 1,\n        \"samples\": [\n          55\n        ],\n        \"semantic_type\": \"\",\n        \"description\": \"\"\n      }\n    },\n    {\n      \"column\": \"color\",\n      \"properties\": {\n        \"dtype\": \"category\",\n        \"num_unique_values\": 1,\n        \"samples\": [\n          \"grey\"\n        ],\n        \"semantic_type\": \"\",\n        \"description\": \"\"\n      }\n    }\n  ]\n}"
            }
          },
          "metadata": {},
          "execution_count": 89
        }
      ]
    },
    {
      "cell_type": "code",
      "source": [
        "import plotly.graph_objects as go\n",
        "\n",
        "def graph_bar(df_x, df_y):\n",
        "  layout = go.Layout(\n",
        "      title='Overlapping Bars Example',\n",
        "      barmode='overlay'\n",
        "  )\n",
        "\n",
        "  # Create the figure\n",
        "  fig = go.Figure(layout=layout)\n",
        "\n",
        "\n",
        "\n",
        "  # Calculate the total width and offset for each bar\n",
        "  total_width = 0.8\n",
        "  offset = total_width / 2\n",
        "\n",
        "  # Add the bars\n",
        "  fig.add_trace(go.Bar(x=df_x['Weight'], y=df_x['Line'], marker_color=df_x['Item'], orientation='h',  width=0.5, showlegend=False))\n",
        "  fig.add_trace(go.Bar(x=df_y['capacity'], y=df_y['Line'], orientation='h',  width=0.8, marker_color=df_y['color'], opacity=0.5, name=\"no activa\"))\n",
        "\n",
        "  # return\n",
        "  return fig\n",
        "\n",
        "fig = graph_bar(df_x, df_y)\n",
        "fig.show()"
      ],
      "metadata": {
        "colab": {
          "base_uri": "https://localhost:8080/",
          "height": 542
        },
        "id": "5QkmW0MqCgY7",
        "outputId": "e9f779e8-84c7-49ef-f0ca-90e9a5403bdc"
      },
      "execution_count": null,
      "outputs": [
        {
          "output_type": "display_data",
          "data": {
            "text/html": [
              "<html>\n",
              "<head><meta charset=\"utf-8\" /></head>\n",
              "<body>\n",
              "    <div>            <script src=\"https://cdnjs.cloudflare.com/ajax/libs/mathjax/2.7.5/MathJax.js?config=TeX-AMS-MML_SVG\"></script><script type=\"text/javascript\">if (window.MathJax && window.MathJax.Hub && window.MathJax.Hub.Config) {window.MathJax.Hub.Config({SVG: {font: \"STIX-Web\"}});}</script>                <script type=\"text/javascript\">window.PlotlyConfig = {MathJaxConfig: 'local'};</script>\n",
              "        <script charset=\"utf-8\" src=\"https://cdn.plot.ly/plotly-2.24.1.min.js\"></script>                <div id=\"efea4226-b5e4-4070-b566-b49f1d40b3b6\" class=\"plotly-graph-div\" style=\"height:525px; width:100%;\"></div>            <script type=\"text/javascript\">                                    window.PLOTLYENV=window.PLOTLYENV || {};                                    if (document.getElementById(\"efea4226-b5e4-4070-b566-b49f1d40b3b6\")) {                    Plotly.newPlot(                        \"efea4226-b5e4-4070-b566-b49f1d40b3b6\",                        [{\"marker\":{\"color\":[1,2,3,7]},\"orientation\":\"h\",\"showlegend\":false,\"width\":0.5,\"x\":[16,29,24,32],\"y\":[5,1,1,4],\"type\":\"bar\"},{\"marker\":{\"color\":[\"white\",\"grey\",\"grey\",\"white\",\"white\"]},\"name\":\"no activa\",\"opacity\":0.5,\"orientation\":\"h\",\"width\":0.8,\"x\":[55,55,55,55,55],\"y\":[1,2,3,4,5],\"type\":\"bar\"}],                        {\"barmode\":\"overlay\",\"title\":{\"text\":\"Overlapping Bars Example\"},\"template\":{\"data\":{\"histogram2dcontour\":[{\"type\":\"histogram2dcontour\",\"colorbar\":{\"outlinewidth\":0,\"ticks\":\"\"},\"colorscale\":[[0.0,\"#0d0887\"],[0.1111111111111111,\"#46039f\"],[0.2222222222222222,\"#7201a8\"],[0.3333333333333333,\"#9c179e\"],[0.4444444444444444,\"#bd3786\"],[0.5555555555555556,\"#d8576b\"],[0.6666666666666666,\"#ed7953\"],[0.7777777777777778,\"#fb9f3a\"],[0.8888888888888888,\"#fdca26\"],[1.0,\"#f0f921\"]]}],\"choropleth\":[{\"type\":\"choropleth\",\"colorbar\":{\"outlinewidth\":0,\"ticks\":\"\"}}],\"histogram2d\":[{\"type\":\"histogram2d\",\"colorbar\":{\"outlinewidth\":0,\"ticks\":\"\"},\"colorscale\":[[0.0,\"#0d0887\"],[0.1111111111111111,\"#46039f\"],[0.2222222222222222,\"#7201a8\"],[0.3333333333333333,\"#9c179e\"],[0.4444444444444444,\"#bd3786\"],[0.5555555555555556,\"#d8576b\"],[0.6666666666666666,\"#ed7953\"],[0.7777777777777778,\"#fb9f3a\"],[0.8888888888888888,\"#fdca26\"],[1.0,\"#f0f921\"]]}],\"heatmap\":[{\"type\":\"heatmap\",\"colorbar\":{\"outlinewidth\":0,\"ticks\":\"\"},\"colorscale\":[[0.0,\"#0d0887\"],[0.1111111111111111,\"#46039f\"],[0.2222222222222222,\"#7201a8\"],[0.3333333333333333,\"#9c179e\"],[0.4444444444444444,\"#bd3786\"],[0.5555555555555556,\"#d8576b\"],[0.6666666666666666,\"#ed7953\"],[0.7777777777777778,\"#fb9f3a\"],[0.8888888888888888,\"#fdca26\"],[1.0,\"#f0f921\"]]}],\"heatmapgl\":[{\"type\":\"heatmapgl\",\"colorbar\":{\"outlinewidth\":0,\"ticks\":\"\"},\"colorscale\":[[0.0,\"#0d0887\"],[0.1111111111111111,\"#46039f\"],[0.2222222222222222,\"#7201a8\"],[0.3333333333333333,\"#9c179e\"],[0.4444444444444444,\"#bd3786\"],[0.5555555555555556,\"#d8576b\"],[0.6666666666666666,\"#ed7953\"],[0.7777777777777778,\"#fb9f3a\"],[0.8888888888888888,\"#fdca26\"],[1.0,\"#f0f921\"]]}],\"contourcarpet\":[{\"type\":\"contourcarpet\",\"colorbar\":{\"outlinewidth\":0,\"ticks\":\"\"}}],\"contour\":[{\"type\":\"contour\",\"colorbar\":{\"outlinewidth\":0,\"ticks\":\"\"},\"colorscale\":[[0.0,\"#0d0887\"],[0.1111111111111111,\"#46039f\"],[0.2222222222222222,\"#7201a8\"],[0.3333333333333333,\"#9c179e\"],[0.4444444444444444,\"#bd3786\"],[0.5555555555555556,\"#d8576b\"],[0.6666666666666666,\"#ed7953\"],[0.7777777777777778,\"#fb9f3a\"],[0.8888888888888888,\"#fdca26\"],[1.0,\"#f0f921\"]]}],\"surface\":[{\"type\":\"surface\",\"colorbar\":{\"outlinewidth\":0,\"ticks\":\"\"},\"colorscale\":[[0.0,\"#0d0887\"],[0.1111111111111111,\"#46039f\"],[0.2222222222222222,\"#7201a8\"],[0.3333333333333333,\"#9c179e\"],[0.4444444444444444,\"#bd3786\"],[0.5555555555555556,\"#d8576b\"],[0.6666666666666666,\"#ed7953\"],[0.7777777777777778,\"#fb9f3a\"],[0.8888888888888888,\"#fdca26\"],[1.0,\"#f0f921\"]]}],\"mesh3d\":[{\"type\":\"mesh3d\",\"colorbar\":{\"outlinewidth\":0,\"ticks\":\"\"}}],\"scatter\":[{\"fillpattern\":{\"fillmode\":\"overlay\",\"size\":10,\"solidity\":0.2},\"type\":\"scatter\"}],\"parcoords\":[{\"type\":\"parcoords\",\"line\":{\"colorbar\":{\"outlinewidth\":0,\"ticks\":\"\"}}}],\"scatterpolargl\":[{\"type\":\"scatterpolargl\",\"marker\":{\"colorbar\":{\"outlinewidth\":0,\"ticks\":\"\"}}}],\"bar\":[{\"error_x\":{\"color\":\"#2a3f5f\"},\"error_y\":{\"color\":\"#2a3f5f\"},\"marker\":{\"line\":{\"color\":\"#E5ECF6\",\"width\":0.5},\"pattern\":{\"fillmode\":\"overlay\",\"size\":10,\"solidity\":0.2}},\"type\":\"bar\"}],\"scattergeo\":[{\"type\":\"scattergeo\",\"marker\":{\"colorbar\":{\"outlinewidth\":0,\"ticks\":\"\"}}}],\"scatterpolar\":[{\"type\":\"scatterpolar\",\"marker\":{\"colorbar\":{\"outlinewidth\":0,\"ticks\":\"\"}}}],\"histogram\":[{\"marker\":{\"pattern\":{\"fillmode\":\"overlay\",\"size\":10,\"solidity\":0.2}},\"type\":\"histogram\"}],\"scattergl\":[{\"type\":\"scattergl\",\"marker\":{\"colorbar\":{\"outlinewidth\":0,\"ticks\":\"\"}}}],\"scatter3d\":[{\"type\":\"scatter3d\",\"line\":{\"colorbar\":{\"outlinewidth\":0,\"ticks\":\"\"}},\"marker\":{\"colorbar\":{\"outlinewidth\":0,\"ticks\":\"\"}}}],\"scattermapbox\":[{\"type\":\"scattermapbox\",\"marker\":{\"colorbar\":{\"outlinewidth\":0,\"ticks\":\"\"}}}],\"scatterternary\":[{\"type\":\"scatterternary\",\"marker\":{\"colorbar\":{\"outlinewidth\":0,\"ticks\":\"\"}}}],\"scattercarpet\":[{\"type\":\"scattercarpet\",\"marker\":{\"colorbar\":{\"outlinewidth\":0,\"ticks\":\"\"}}}],\"carpet\":[{\"aaxis\":{\"endlinecolor\":\"#2a3f5f\",\"gridcolor\":\"white\",\"linecolor\":\"white\",\"minorgridcolor\":\"white\",\"startlinecolor\":\"#2a3f5f\"},\"baxis\":{\"endlinecolor\":\"#2a3f5f\",\"gridcolor\":\"white\",\"linecolor\":\"white\",\"minorgridcolor\":\"white\",\"startlinecolor\":\"#2a3f5f\"},\"type\":\"carpet\"}],\"table\":[{\"cells\":{\"fill\":{\"color\":\"#EBF0F8\"},\"line\":{\"color\":\"white\"}},\"header\":{\"fill\":{\"color\":\"#C8D4E3\"},\"line\":{\"color\":\"white\"}},\"type\":\"table\"}],\"barpolar\":[{\"marker\":{\"line\":{\"color\":\"#E5ECF6\",\"width\":0.5},\"pattern\":{\"fillmode\":\"overlay\",\"size\":10,\"solidity\":0.2}},\"type\":\"barpolar\"}],\"pie\":[{\"automargin\":true,\"type\":\"pie\"}]},\"layout\":{\"autotypenumbers\":\"strict\",\"colorway\":[\"#636efa\",\"#EF553B\",\"#00cc96\",\"#ab63fa\",\"#FFA15A\",\"#19d3f3\",\"#FF6692\",\"#B6E880\",\"#FF97FF\",\"#FECB52\"],\"font\":{\"color\":\"#2a3f5f\"},\"hovermode\":\"closest\",\"hoverlabel\":{\"align\":\"left\"},\"paper_bgcolor\":\"white\",\"plot_bgcolor\":\"#E5ECF6\",\"polar\":{\"bgcolor\":\"#E5ECF6\",\"angularaxis\":{\"gridcolor\":\"white\",\"linecolor\":\"white\",\"ticks\":\"\"},\"radialaxis\":{\"gridcolor\":\"white\",\"linecolor\":\"white\",\"ticks\":\"\"}},\"ternary\":{\"bgcolor\":\"#E5ECF6\",\"aaxis\":{\"gridcolor\":\"white\",\"linecolor\":\"white\",\"ticks\":\"\"},\"baxis\":{\"gridcolor\":\"white\",\"linecolor\":\"white\",\"ticks\":\"\"},\"caxis\":{\"gridcolor\":\"white\",\"linecolor\":\"white\",\"ticks\":\"\"}},\"coloraxis\":{\"colorbar\":{\"outlinewidth\":0,\"ticks\":\"\"}},\"colorscale\":{\"sequential\":[[0.0,\"#0d0887\"],[0.1111111111111111,\"#46039f\"],[0.2222222222222222,\"#7201a8\"],[0.3333333333333333,\"#9c179e\"],[0.4444444444444444,\"#bd3786\"],[0.5555555555555556,\"#d8576b\"],[0.6666666666666666,\"#ed7953\"],[0.7777777777777778,\"#fb9f3a\"],[0.8888888888888888,\"#fdca26\"],[1.0,\"#f0f921\"]],\"sequentialminus\":[[0.0,\"#0d0887\"],[0.1111111111111111,\"#46039f\"],[0.2222222222222222,\"#7201a8\"],[0.3333333333333333,\"#9c179e\"],[0.4444444444444444,\"#bd3786\"],[0.5555555555555556,\"#d8576b\"],[0.6666666666666666,\"#ed7953\"],[0.7777777777777778,\"#fb9f3a\"],[0.8888888888888888,\"#fdca26\"],[1.0,\"#f0f921\"]],\"diverging\":[[0,\"#8e0152\"],[0.1,\"#c51b7d\"],[0.2,\"#de77ae\"],[0.3,\"#f1b6da\"],[0.4,\"#fde0ef\"],[0.5,\"#f7f7f7\"],[0.6,\"#e6f5d0\"],[0.7,\"#b8e186\"],[0.8,\"#7fbc41\"],[0.9,\"#4d9221\"],[1,\"#276419\"]]},\"xaxis\":{\"gridcolor\":\"white\",\"linecolor\":\"white\",\"ticks\":\"\",\"title\":{\"standoff\":15},\"zerolinecolor\":\"white\",\"automargin\":true,\"zerolinewidth\":2},\"yaxis\":{\"gridcolor\":\"white\",\"linecolor\":\"white\",\"ticks\":\"\",\"title\":{\"standoff\":15},\"zerolinecolor\":\"white\",\"automargin\":true,\"zerolinewidth\":2},\"scene\":{\"xaxis\":{\"backgroundcolor\":\"#E5ECF6\",\"gridcolor\":\"white\",\"linecolor\":\"white\",\"showbackground\":true,\"ticks\":\"\",\"zerolinecolor\":\"white\",\"gridwidth\":2},\"yaxis\":{\"backgroundcolor\":\"#E5ECF6\",\"gridcolor\":\"white\",\"linecolor\":\"white\",\"showbackground\":true,\"ticks\":\"\",\"zerolinecolor\":\"white\",\"gridwidth\":2},\"zaxis\":{\"backgroundcolor\":\"#E5ECF6\",\"gridcolor\":\"white\",\"linecolor\":\"white\",\"showbackground\":true,\"ticks\":\"\",\"zerolinecolor\":\"white\",\"gridwidth\":2}},\"shapedefaults\":{\"line\":{\"color\":\"#2a3f5f\"}},\"annotationdefaults\":{\"arrowcolor\":\"#2a3f5f\",\"arrowhead\":0,\"arrowwidth\":1},\"geo\":{\"bgcolor\":\"white\",\"landcolor\":\"#E5ECF6\",\"subunitcolor\":\"white\",\"showland\":true,\"showlakes\":true,\"lakecolor\":\"white\"},\"title\":{\"x\":0.05},\"mapbox\":{\"style\":\"light\"}}}},                        {\"responsive\": true}                    ).then(function(){\n",
              "                            \n",
              "var gd = document.getElementById('efea4226-b5e4-4070-b566-b49f1d40b3b6');\n",
              "var x = new MutationObserver(function (mutations, observer) {{\n",
              "        var display = window.getComputedStyle(gd).display;\n",
              "        if (!display || display === 'none') {{\n",
              "            console.log([gd, 'removed!']);\n",
              "            Plotly.purge(gd);\n",
              "            observer.disconnect();\n",
              "        }}\n",
              "}});\n",
              "\n",
              "// Listen for the removal of the full notebook cells\n",
              "var notebookContainer = gd.closest('#notebook-container');\n",
              "if (notebookContainer) {{\n",
              "    x.observe(notebookContainer, {childList: true});\n",
              "}}\n",
              "\n",
              "// Listen for the clearing of the current output cell\n",
              "var outputEl = gd.closest('.output');\n",
              "if (outputEl) {{\n",
              "    x.observe(outputEl, {childList: true});\n",
              "}}\n",
              "\n",
              "                        })                };                            </script>        </div>\n",
              "</body>\n",
              "</html>"
            ]
          },
          "metadata": {}
        }
      ]
    },
    {
      "cell_type": "markdown",
      "source": [
        "Note que a pesar de no estar activo ninguno de las líneas se estan asignando pedidos a ellos. Esto se debe a que no hemos relacionado las dos variables de decision. En este caso en particular, deberemos modificar la restricción de capacidad así:\n",
        "\n",
        "> La cantidad de unidades de galleta requerida por los pedidos a producir en cada línea no debe sobrepasar su capacidad si la línea esta activa o debe ser cero si la línea no esta activa.\n",
        "\n",
        "En términos mátematicos esto lo logramos al múltiplicar el lado derecho por la variable de activación de la línea. Para la restricción de capacidad de la primera línea se vería así:\n",
        "\n",
        ">  $16x_{1,1} + 29x_{2,1} + 24x_{3,1} + 20x_{4,1} + 17x_{5,1} + 30x_{6,1} + 32x_{7,1} + 28x_{8,1} + 20x_{9,1} + 20x_{10,1} \\leq 55 y_1$\n",
        "\n",
        "De forma similar se haría para las demas líneas.\n"
      ],
      "metadata": {
        "id": "6mxT_dFfLyxD"
      }
    },
    {
      "cell_type": "markdown",
      "source": [
        "Introducimos esta modificación en nuestro modelo. Por simplicidad, se ha implementado de modo que el valor del parametro `linked=True` significa que debe considerarse la nueva restricción:\n",
        "\n",
        "Tendríamos entonces"
      ],
      "metadata": {
        "id": "-6DaH3OSM2yQ"
      }
    },
    {
      "cell_type": "code",
      "source": [
        "# Create the model\n",
        "model = create_multiknapsack_model(values, weigths, capacity, cost_setup, linked=True)\n",
        "\n",
        "# Solve the model using a solver\n",
        "solver = SolverFactory('appsi_highs')\n",
        "results = solver.solve(model, tee=False)\n",
        "\n",
        "# Display results\n",
        "print(\"Objective value (Total value):\", model.obj())\n",
        "\n",
        "# get results\n",
        "df_x, df_y = get_variables(model, capacity)\n",
        "\n",
        "# graph results\n",
        "fig = graph_bar(df_x, df_y)\n",
        "fig.show()"
      ],
      "metadata": {
        "colab": {
          "base_uri": "https://localhost:8080/",
          "height": 560
        },
        "id": "KtEAoL32NFtJ",
        "outputId": "2ecce8f5-5f7c-46ae-b623-f1e786b72076"
      },
      "execution_count": null,
      "outputs": [
        {
          "output_type": "stream",
          "name": "stdout",
          "text": [
            "Objective value (Total value): 118.99999999999977\n"
          ]
        },
        {
          "output_type": "display_data",
          "data": {
            "text/html": [
              "<html>\n",
              "<head><meta charset=\"utf-8\" /></head>\n",
              "<body>\n",
              "    <div>            <script src=\"https://cdnjs.cloudflare.com/ajax/libs/mathjax/2.7.5/MathJax.js?config=TeX-AMS-MML_SVG\"></script><script type=\"text/javascript\">if (window.MathJax && window.MathJax.Hub && window.MathJax.Hub.Config) {window.MathJax.Hub.Config({SVG: {font: \"STIX-Web\"}});}</script>                <script type=\"text/javascript\">window.PlotlyConfig = {MathJaxConfig: 'local'};</script>\n",
              "        <script charset=\"utf-8\" src=\"https://cdn.plot.ly/plotly-2.24.1.min.js\"></script>                <div id=\"ee57e7f4-cd8f-4684-bad4-64f667e8e9e4\" class=\"plotly-graph-div\" style=\"height:525px; width:100%;\"></div>            <script type=\"text/javascript\">                                    window.PLOTLYENV=window.PLOTLYENV || {};                                    if (document.getElementById(\"ee57e7f4-cd8f-4684-bad4-64f667e8e9e4\")) {                    Plotly.newPlot(                        \"ee57e7f4-cd8f-4684-bad4-64f667e8e9e4\",                        [{\"marker\":{\"color\":[1,2,3,7]},\"orientation\":\"h\",\"showlegend\":false,\"width\":0.5,\"x\":[16,29,24,32],\"y\":[5,1,1,4],\"type\":\"bar\"},{\"marker\":{\"color\":[\"white\",\"grey\",\"grey\",\"white\",\"white\"]},\"name\":\"no activa\",\"opacity\":0.5,\"orientation\":\"h\",\"width\":0.8,\"x\":[55,55,55,55,55],\"y\":[1,2,3,4,5],\"type\":\"bar\"}],                        {\"barmode\":\"overlay\",\"title\":{\"text\":\"Overlapping Bars Example\"},\"template\":{\"data\":{\"histogram2dcontour\":[{\"type\":\"histogram2dcontour\",\"colorbar\":{\"outlinewidth\":0,\"ticks\":\"\"},\"colorscale\":[[0.0,\"#0d0887\"],[0.1111111111111111,\"#46039f\"],[0.2222222222222222,\"#7201a8\"],[0.3333333333333333,\"#9c179e\"],[0.4444444444444444,\"#bd3786\"],[0.5555555555555556,\"#d8576b\"],[0.6666666666666666,\"#ed7953\"],[0.7777777777777778,\"#fb9f3a\"],[0.8888888888888888,\"#fdca26\"],[1.0,\"#f0f921\"]]}],\"choropleth\":[{\"type\":\"choropleth\",\"colorbar\":{\"outlinewidth\":0,\"ticks\":\"\"}}],\"histogram2d\":[{\"type\":\"histogram2d\",\"colorbar\":{\"outlinewidth\":0,\"ticks\":\"\"},\"colorscale\":[[0.0,\"#0d0887\"],[0.1111111111111111,\"#46039f\"],[0.2222222222222222,\"#7201a8\"],[0.3333333333333333,\"#9c179e\"],[0.4444444444444444,\"#bd3786\"],[0.5555555555555556,\"#d8576b\"],[0.6666666666666666,\"#ed7953\"],[0.7777777777777778,\"#fb9f3a\"],[0.8888888888888888,\"#fdca26\"],[1.0,\"#f0f921\"]]}],\"heatmap\":[{\"type\":\"heatmap\",\"colorbar\":{\"outlinewidth\":0,\"ticks\":\"\"},\"colorscale\":[[0.0,\"#0d0887\"],[0.1111111111111111,\"#46039f\"],[0.2222222222222222,\"#7201a8\"],[0.3333333333333333,\"#9c179e\"],[0.4444444444444444,\"#bd3786\"],[0.5555555555555556,\"#d8576b\"],[0.6666666666666666,\"#ed7953\"],[0.7777777777777778,\"#fb9f3a\"],[0.8888888888888888,\"#fdca26\"],[1.0,\"#f0f921\"]]}],\"heatmapgl\":[{\"type\":\"heatmapgl\",\"colorbar\":{\"outlinewidth\":0,\"ticks\":\"\"},\"colorscale\":[[0.0,\"#0d0887\"],[0.1111111111111111,\"#46039f\"],[0.2222222222222222,\"#7201a8\"],[0.3333333333333333,\"#9c179e\"],[0.4444444444444444,\"#bd3786\"],[0.5555555555555556,\"#d8576b\"],[0.6666666666666666,\"#ed7953\"],[0.7777777777777778,\"#fb9f3a\"],[0.8888888888888888,\"#fdca26\"],[1.0,\"#f0f921\"]]}],\"contourcarpet\":[{\"type\":\"contourcarpet\",\"colorbar\":{\"outlinewidth\":0,\"ticks\":\"\"}}],\"contour\":[{\"type\":\"contour\",\"colorbar\":{\"outlinewidth\":0,\"ticks\":\"\"},\"colorscale\":[[0.0,\"#0d0887\"],[0.1111111111111111,\"#46039f\"],[0.2222222222222222,\"#7201a8\"],[0.3333333333333333,\"#9c179e\"],[0.4444444444444444,\"#bd3786\"],[0.5555555555555556,\"#d8576b\"],[0.6666666666666666,\"#ed7953\"],[0.7777777777777778,\"#fb9f3a\"],[0.8888888888888888,\"#fdca26\"],[1.0,\"#f0f921\"]]}],\"surface\":[{\"type\":\"surface\",\"colorbar\":{\"outlinewidth\":0,\"ticks\":\"\"},\"colorscale\":[[0.0,\"#0d0887\"],[0.1111111111111111,\"#46039f\"],[0.2222222222222222,\"#7201a8\"],[0.3333333333333333,\"#9c179e\"],[0.4444444444444444,\"#bd3786\"],[0.5555555555555556,\"#d8576b\"],[0.6666666666666666,\"#ed7953\"],[0.7777777777777778,\"#fb9f3a\"],[0.8888888888888888,\"#fdca26\"],[1.0,\"#f0f921\"]]}],\"mesh3d\":[{\"type\":\"mesh3d\",\"colorbar\":{\"outlinewidth\":0,\"ticks\":\"\"}}],\"scatter\":[{\"fillpattern\":{\"fillmode\":\"overlay\",\"size\":10,\"solidity\":0.2},\"type\":\"scatter\"}],\"parcoords\":[{\"type\":\"parcoords\",\"line\":{\"colorbar\":{\"outlinewidth\":0,\"ticks\":\"\"}}}],\"scatterpolargl\":[{\"type\":\"scatterpolargl\",\"marker\":{\"colorbar\":{\"outlinewidth\":0,\"ticks\":\"\"}}}],\"bar\":[{\"error_x\":{\"color\":\"#2a3f5f\"},\"error_y\":{\"color\":\"#2a3f5f\"},\"marker\":{\"line\":{\"color\":\"#E5ECF6\",\"width\":0.5},\"pattern\":{\"fillmode\":\"overlay\",\"size\":10,\"solidity\":0.2}},\"type\":\"bar\"}],\"scattergeo\":[{\"type\":\"scattergeo\",\"marker\":{\"colorbar\":{\"outlinewidth\":0,\"ticks\":\"\"}}}],\"scatterpolar\":[{\"type\":\"scatterpolar\",\"marker\":{\"colorbar\":{\"outlinewidth\":0,\"ticks\":\"\"}}}],\"histogram\":[{\"marker\":{\"pattern\":{\"fillmode\":\"overlay\",\"size\":10,\"solidity\":0.2}},\"type\":\"histogram\"}],\"scattergl\":[{\"type\":\"scattergl\",\"marker\":{\"colorbar\":{\"outlinewidth\":0,\"ticks\":\"\"}}}],\"scatter3d\":[{\"type\":\"scatter3d\",\"line\":{\"colorbar\":{\"outlinewidth\":0,\"ticks\":\"\"}},\"marker\":{\"colorbar\":{\"outlinewidth\":0,\"ticks\":\"\"}}}],\"scattermapbox\":[{\"type\":\"scattermapbox\",\"marker\":{\"colorbar\":{\"outlinewidth\":0,\"ticks\":\"\"}}}],\"scatterternary\":[{\"type\":\"scatterternary\",\"marker\":{\"colorbar\":{\"outlinewidth\":0,\"ticks\":\"\"}}}],\"scattercarpet\":[{\"type\":\"scattercarpet\",\"marker\":{\"colorbar\":{\"outlinewidth\":0,\"ticks\":\"\"}}}],\"carpet\":[{\"aaxis\":{\"endlinecolor\":\"#2a3f5f\",\"gridcolor\":\"white\",\"linecolor\":\"white\",\"minorgridcolor\":\"white\",\"startlinecolor\":\"#2a3f5f\"},\"baxis\":{\"endlinecolor\":\"#2a3f5f\",\"gridcolor\":\"white\",\"linecolor\":\"white\",\"minorgridcolor\":\"white\",\"startlinecolor\":\"#2a3f5f\"},\"type\":\"carpet\"}],\"table\":[{\"cells\":{\"fill\":{\"color\":\"#EBF0F8\"},\"line\":{\"color\":\"white\"}},\"header\":{\"fill\":{\"color\":\"#C8D4E3\"},\"line\":{\"color\":\"white\"}},\"type\":\"table\"}],\"barpolar\":[{\"marker\":{\"line\":{\"color\":\"#E5ECF6\",\"width\":0.5},\"pattern\":{\"fillmode\":\"overlay\",\"size\":10,\"solidity\":0.2}},\"type\":\"barpolar\"}],\"pie\":[{\"automargin\":true,\"type\":\"pie\"}]},\"layout\":{\"autotypenumbers\":\"strict\",\"colorway\":[\"#636efa\",\"#EF553B\",\"#00cc96\",\"#ab63fa\",\"#FFA15A\",\"#19d3f3\",\"#FF6692\",\"#B6E880\",\"#FF97FF\",\"#FECB52\"],\"font\":{\"color\":\"#2a3f5f\"},\"hovermode\":\"closest\",\"hoverlabel\":{\"align\":\"left\"},\"paper_bgcolor\":\"white\",\"plot_bgcolor\":\"#E5ECF6\",\"polar\":{\"bgcolor\":\"#E5ECF6\",\"angularaxis\":{\"gridcolor\":\"white\",\"linecolor\":\"white\",\"ticks\":\"\"},\"radialaxis\":{\"gridcolor\":\"white\",\"linecolor\":\"white\",\"ticks\":\"\"}},\"ternary\":{\"bgcolor\":\"#E5ECF6\",\"aaxis\":{\"gridcolor\":\"white\",\"linecolor\":\"white\",\"ticks\":\"\"},\"baxis\":{\"gridcolor\":\"white\",\"linecolor\":\"white\",\"ticks\":\"\"},\"caxis\":{\"gridcolor\":\"white\",\"linecolor\":\"white\",\"ticks\":\"\"}},\"coloraxis\":{\"colorbar\":{\"outlinewidth\":0,\"ticks\":\"\"}},\"colorscale\":{\"sequential\":[[0.0,\"#0d0887\"],[0.1111111111111111,\"#46039f\"],[0.2222222222222222,\"#7201a8\"],[0.3333333333333333,\"#9c179e\"],[0.4444444444444444,\"#bd3786\"],[0.5555555555555556,\"#d8576b\"],[0.6666666666666666,\"#ed7953\"],[0.7777777777777778,\"#fb9f3a\"],[0.8888888888888888,\"#fdca26\"],[1.0,\"#f0f921\"]],\"sequentialminus\":[[0.0,\"#0d0887\"],[0.1111111111111111,\"#46039f\"],[0.2222222222222222,\"#7201a8\"],[0.3333333333333333,\"#9c179e\"],[0.4444444444444444,\"#bd3786\"],[0.5555555555555556,\"#d8576b\"],[0.6666666666666666,\"#ed7953\"],[0.7777777777777778,\"#fb9f3a\"],[0.8888888888888888,\"#fdca26\"],[1.0,\"#f0f921\"]],\"diverging\":[[0,\"#8e0152\"],[0.1,\"#c51b7d\"],[0.2,\"#de77ae\"],[0.3,\"#f1b6da\"],[0.4,\"#fde0ef\"],[0.5,\"#f7f7f7\"],[0.6,\"#e6f5d0\"],[0.7,\"#b8e186\"],[0.8,\"#7fbc41\"],[0.9,\"#4d9221\"],[1,\"#276419\"]]},\"xaxis\":{\"gridcolor\":\"white\",\"linecolor\":\"white\",\"ticks\":\"\",\"title\":{\"standoff\":15},\"zerolinecolor\":\"white\",\"automargin\":true,\"zerolinewidth\":2},\"yaxis\":{\"gridcolor\":\"white\",\"linecolor\":\"white\",\"ticks\":\"\",\"title\":{\"standoff\":15},\"zerolinecolor\":\"white\",\"automargin\":true,\"zerolinewidth\":2},\"scene\":{\"xaxis\":{\"backgroundcolor\":\"#E5ECF6\",\"gridcolor\":\"white\",\"linecolor\":\"white\",\"showbackground\":true,\"ticks\":\"\",\"zerolinecolor\":\"white\",\"gridwidth\":2},\"yaxis\":{\"backgroundcolor\":\"#E5ECF6\",\"gridcolor\":\"white\",\"linecolor\":\"white\",\"showbackground\":true,\"ticks\":\"\",\"zerolinecolor\":\"white\",\"gridwidth\":2},\"zaxis\":{\"backgroundcolor\":\"#E5ECF6\",\"gridcolor\":\"white\",\"linecolor\":\"white\",\"showbackground\":true,\"ticks\":\"\",\"zerolinecolor\":\"white\",\"gridwidth\":2}},\"shapedefaults\":{\"line\":{\"color\":\"#2a3f5f\"}},\"annotationdefaults\":{\"arrowcolor\":\"#2a3f5f\",\"arrowhead\":0,\"arrowwidth\":1},\"geo\":{\"bgcolor\":\"white\",\"landcolor\":\"#E5ECF6\",\"subunitcolor\":\"white\",\"showland\":true,\"showlakes\":true,\"lakecolor\":\"white\"},\"title\":{\"x\":0.05},\"mapbox\":{\"style\":\"light\"}}}},                        {\"responsive\": true}                    ).then(function(){\n",
              "                            \n",
              "var gd = document.getElementById('ee57e7f4-cd8f-4684-bad4-64f667e8e9e4');\n",
              "var x = new MutationObserver(function (mutations, observer) {{\n",
              "        var display = window.getComputedStyle(gd).display;\n",
              "        if (!display || display === 'none') {{\n",
              "            console.log([gd, 'removed!']);\n",
              "            Plotly.purge(gd);\n",
              "            observer.disconnect();\n",
              "        }}\n",
              "}});\n",
              "\n",
              "// Listen for the removal of the full notebook cells\n",
              "var notebookContainer = gd.closest('#notebook-container');\n",
              "if (notebookContainer) {{\n",
              "    x.observe(notebookContainer, {childList: true});\n",
              "}}\n",
              "\n",
              "// Listen for the clearing of the current output cell\n",
              "var outputEl = gd.closest('.output');\n",
              "if (outputEl) {{\n",
              "    x.observe(outputEl, {childList: true});\n",
              "}}\n",
              "\n",
              "                        })                };                            </script>        </div>\n",
              "</body>\n",
              "</html>"
            ]
          },
          "metadata": {}
        }
      ]
    },
    {
      "cell_type": "markdown",
      "source": [
        "# <font color='FD6E72'> **Referencias** </font>"
      ],
      "metadata": {
        "id": "0zNhK8taf54t"
      }
    },
    {
      "cell_type": "markdown",
      "source": [
        "Gartner, 2016. \"2017 Planning Guide for Data and Analytics\""
      ],
      "metadata": {
        "id": "z2v5MJ0Vggxi"
      }
    }
  ]
}